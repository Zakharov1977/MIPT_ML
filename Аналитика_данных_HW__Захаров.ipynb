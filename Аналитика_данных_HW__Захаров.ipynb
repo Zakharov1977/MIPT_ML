{
  "cells": [
    {
      "cell_type": "markdown",
      "metadata": {
        "id": "view-in-github",
        "colab_type": "text"
      },
      "source": [
        "<a href=\"https://colab.research.google.com/github/Zakharov1977/MIPT_ML/blob/main/%D0%90%D0%BD%D0%B0%D0%BB%D0%B8%D1%82%D0%B8%D0%BA%D0%B0_%D0%B4%D0%B0%D0%BD%D0%BD%D1%8B%D1%85_HW__%D0%97%D0%B0%D1%85%D0%B0%D1%80%D0%BE%D0%B2.ipynb\" target=\"_parent\"><img src=\"https://colab.research.google.com/assets/colab-badge.svg\" alt=\"Open In Colab\"/></a>"
      ]
    },
    {
      "cell_type": "code",
      "execution_count": null,
      "metadata": {
        "id": "XxnONTyTGA0w"
      },
      "outputs": [],
      "source": []
    },
    {
      "cell_type": "markdown",
      "metadata": {
        "id": "RiC721U_GGFV"
      },
      "source": [
        "**ДОМАШНЕЕ ЗАДАНИЕ 1**\n",
        " \n",
        "\n",
        "**ДЕДЛАЙН ВЫПОЛНЕНИЯ: 11.12** \n"
      ]
    },
    {
      "cell_type": "markdown",
      "metadata": {
        "id": "t9Y5KuqzGXF5"
      },
      "source": [
        "ЗАДАЧИ:\n",
        "Используя SQL и пакет sqlite3 выполните следующие задания. Для первых 7 пунктов используйте полученные данные, для остальных заданий вам необходимо создать вашу собственную таблицу. (Все ответы принимаются только с выведением ID каждого из клиентов, подходящих под условия задачи. В задачах со средним выводить ID не нужно)\n",
        "\n",
        "В ячейке с кодом написать решение в виде кода на языке Python и SQL. Ограничения в использовании библиотек/функций: Только pandasql и sqlite3. pandas только для считывания данных.\n",
        "\n",
        "Правильность решения (за каждую задачу - 1 балл). Необходимо проверить, что SQL запрос оформлен верно, выдача соответствует условию задачи. Любая ошибка == 0 баллов за задачу. Любой провал assert (если он есть) == 0 баллов за задачу. Измененная задача/текст или условия задачи/assert == -1 балл за задачу.\n",
        "\n",
        "ВАМ НЕОБХОДИМО:\n",
        "В ячейке с кодом написать решение в виде кода на языке Python и SQL. Ограничения в использовании библиотек/функций: Только pandasql и sqlite3. pandas только для считывания данных."
      ]
    },
    {
      "cell_type": "markdown",
      "metadata": {
        "id": "3g0psOLyGZ5C"
      },
      "source": [
        "**1. Опишите имеющиеся колонки в данных - сделайте аналог describe в pandas для колонок.**"
      ]
    },
    {
      "cell_type": "code",
      "execution_count": null,
      "metadata": {
        "colab": {
          "base_uri": "https://localhost:8080/"
        },
        "id": "4yB01VT4Ia_5",
        "outputId": "d1b4ecdd-0882-4d78-83d6-88679d5c60ac"
      },
      "outputs": [
        {
          "output_type": "stream",
          "name": "stdout",
          "text": [
            "Drive already mounted at /content/drive; to attempt to forcibly remount, call drive.mount(\"/content/drive\", force_remount=True).\n"
          ]
        }
      ],
      "source": [
        "# All data was upload on google disc \n",
        "# (folder: https://drive.google.com/drive/u/0/folders/1UF6opSKQG3Ll2q7pEbwiiMFzX-XXdXAL\n",
        "# подключаем доступ к локальному диску\n",
        "from google.colab import drive \n",
        "drive.mount('/content/drive')"
      ]
    },
    {
      "cell_type": "code",
      "source": [
        "!pip install pandasql"
      ],
      "metadata": {
        "id": "uMgrZKTKd7YM",
        "colab": {
          "base_uri": "https://localhost:8080/"
        },
        "outputId": "a4d54218-6a74-4943-b749-88d9ab446f62"
      },
      "execution_count": null,
      "outputs": [
        {
          "output_type": "stream",
          "name": "stdout",
          "text": [
            "Looking in indexes: https://pypi.org/simple, https://us-python.pkg.dev/colab-wheels/public/simple/\n",
            "Requirement already satisfied: pandasql in /usr/local/lib/python3.8/dist-packages (0.7.3)\n",
            "Requirement already satisfied: sqlalchemy in /usr/local/lib/python3.8/dist-packages (from pandasql) (1.4.44)\n",
            "Requirement already satisfied: pandas in /usr/local/lib/python3.8/dist-packages (from pandasql) (1.3.5)\n",
            "Requirement already satisfied: numpy in /usr/local/lib/python3.8/dist-packages (from pandasql) (1.21.6)\n",
            "Requirement already satisfied: python-dateutil>=2.7.3 in /usr/local/lib/python3.8/dist-packages (from pandas->pandasql) (2.8.2)\n",
            "Requirement already satisfied: pytz>=2017.3 in /usr/local/lib/python3.8/dist-packages (from pandas->pandasql) (2022.6)\n",
            "Requirement already satisfied: six>=1.5 in /usr/local/lib/python3.8/dist-packages (from python-dateutil>=2.7.3->pandas->pandasql) (1.15.0)\n",
            "Requirement already satisfied: greenlet!=0.4.17 in /usr/local/lib/python3.8/dist-packages (from sqlalchemy->pandasql) (2.0.1)\n"
          ]
        }
      ]
    },
    {
      "cell_type": "code",
      "execution_count": null,
      "metadata": {
        "id": "q-wWlppoIiVi"
      },
      "outputs": [],
      "source": [
        "# Устанавливаем нужные библиотеки\n",
        "import pandas as pd\n",
        "import numpy as np\n",
        "import sqlite3\n",
        "import pandasql"
      ]
    },
    {
      "cell_type": "code",
      "execution_count": null,
      "metadata": {
        "colab": {
          "base_uri": "https://localhost:8080/",
          "height": 483
        },
        "id": "RRL4VrQXIkMD",
        "outputId": "dc7f610e-ee5f-4d48-8c02-0cd9c97057d4"
      },
      "outputs": [
        {
          "output_type": "stream",
          "name": "stdout",
          "text": [
            "<class 'pandas.core.frame.DataFrame'>\n",
            "RangeIndex: 200 entries, 0 to 199\n",
            "Data columns (total 8 columns):\n",
            " #   Column      Non-Null Count  Dtype         \n",
            "---  ------      --------------  -----         \n",
            " 0   Cust_ID     200 non-null    int64         \n",
            " 1   Purchase    200 non-null    int64         \n",
            " 2   Cheq_Bal    200 non-null    float64       \n",
            " 3   Sav_Bal     200 non-null    float64       \n",
            " 4   Debt_Bal    200 non-null    float64       \n",
            " 5   Joint_Acct  200 non-null    int64         \n",
            " 6   Age         200 non-null    int64         \n",
            " 7   Date        39 non-null     datetime64[ns]\n",
            "dtypes: datetime64[ns](1), float64(3), int64(4)\n",
            "memory usage: 12.6 KB\n"
          ]
        },
        {
          "output_type": "execute_result",
          "data": {
            "text/plain": [
              "   Cust_ID  Purchase  Cheq_Bal   Sav_Bal  Debt_Bal  Joint_Acct  Age       Date\n",
              "0        1         0   1739.48  26918.18  12563.93           0   49        NaT\n",
              "1        2         0   2862.35  23093.67  15457.88           0   39        NaT\n",
              "2        3         0   2296.66  18037.33  12721.89           0   52        NaT\n",
              "3        4         1   2880.28  32317.63   7075.03           0   28 2017-04-30\n",
              "4        5         0    998.27  15110.04  11356.13           0   43        NaT"
            ],
            "text/html": [
              "\n",
              "  <div id=\"df-fd708fd9-4b3e-4deb-876b-ebfea783389b\">\n",
              "    <div class=\"colab-df-container\">\n",
              "      <div>\n",
              "<style scoped>\n",
              "    .dataframe tbody tr th:only-of-type {\n",
              "        vertical-align: middle;\n",
              "    }\n",
              "\n",
              "    .dataframe tbody tr th {\n",
              "        vertical-align: top;\n",
              "    }\n",
              "\n",
              "    .dataframe thead th {\n",
              "        text-align: right;\n",
              "    }\n",
              "</style>\n",
              "<table border=\"1\" class=\"dataframe\">\n",
              "  <thead>\n",
              "    <tr style=\"text-align: right;\">\n",
              "      <th></th>\n",
              "      <th>Cust_ID</th>\n",
              "      <th>Purchase</th>\n",
              "      <th>Cheq_Bal</th>\n",
              "      <th>Sav_Bal</th>\n",
              "      <th>Debt_Bal</th>\n",
              "      <th>Joint_Acct</th>\n",
              "      <th>Age</th>\n",
              "      <th>Date</th>\n",
              "    </tr>\n",
              "  </thead>\n",
              "  <tbody>\n",
              "    <tr>\n",
              "      <th>0</th>\n",
              "      <td>1</td>\n",
              "      <td>0</td>\n",
              "      <td>1739.48</td>\n",
              "      <td>26918.18</td>\n",
              "      <td>12563.93</td>\n",
              "      <td>0</td>\n",
              "      <td>49</td>\n",
              "      <td>NaT</td>\n",
              "    </tr>\n",
              "    <tr>\n",
              "      <th>1</th>\n",
              "      <td>2</td>\n",
              "      <td>0</td>\n",
              "      <td>2862.35</td>\n",
              "      <td>23093.67</td>\n",
              "      <td>15457.88</td>\n",
              "      <td>0</td>\n",
              "      <td>39</td>\n",
              "      <td>NaT</td>\n",
              "    </tr>\n",
              "    <tr>\n",
              "      <th>2</th>\n",
              "      <td>3</td>\n",
              "      <td>0</td>\n",
              "      <td>2296.66</td>\n",
              "      <td>18037.33</td>\n",
              "      <td>12721.89</td>\n",
              "      <td>0</td>\n",
              "      <td>52</td>\n",
              "      <td>NaT</td>\n",
              "    </tr>\n",
              "    <tr>\n",
              "      <th>3</th>\n",
              "      <td>4</td>\n",
              "      <td>1</td>\n",
              "      <td>2880.28</td>\n",
              "      <td>32317.63</td>\n",
              "      <td>7075.03</td>\n",
              "      <td>0</td>\n",
              "      <td>28</td>\n",
              "      <td>2017-04-30</td>\n",
              "    </tr>\n",
              "    <tr>\n",
              "      <th>4</th>\n",
              "      <td>5</td>\n",
              "      <td>0</td>\n",
              "      <td>998.27</td>\n",
              "      <td>15110.04</td>\n",
              "      <td>11356.13</td>\n",
              "      <td>0</td>\n",
              "      <td>43</td>\n",
              "      <td>NaT</td>\n",
              "    </tr>\n",
              "  </tbody>\n",
              "</table>\n",
              "</div>\n",
              "      <button class=\"colab-df-convert\" onclick=\"convertToInteractive('df-fd708fd9-4b3e-4deb-876b-ebfea783389b')\"\n",
              "              title=\"Convert this dataframe to an interactive table.\"\n",
              "              style=\"display:none;\">\n",
              "        \n",
              "  <svg xmlns=\"http://www.w3.org/2000/svg\" height=\"24px\"viewBox=\"0 0 24 24\"\n",
              "       width=\"24px\">\n",
              "    <path d=\"M0 0h24v24H0V0z\" fill=\"none\"/>\n",
              "    <path d=\"M18.56 5.44l.94 2.06.94-2.06 2.06-.94-2.06-.94-.94-2.06-.94 2.06-2.06.94zm-11 1L8.5 8.5l.94-2.06 2.06-.94-2.06-.94L8.5 2.5l-.94 2.06-2.06.94zm10 10l.94 2.06.94-2.06 2.06-.94-2.06-.94-.94-2.06-.94 2.06-2.06.94z\"/><path d=\"M17.41 7.96l-1.37-1.37c-.4-.4-.92-.59-1.43-.59-.52 0-1.04.2-1.43.59L10.3 9.45l-7.72 7.72c-.78.78-.78 2.05 0 2.83L4 21.41c.39.39.9.59 1.41.59.51 0 1.02-.2 1.41-.59l7.78-7.78 2.81-2.81c.8-.78.8-2.07 0-2.86zM5.41 20L4 18.59l7.72-7.72 1.47 1.35L5.41 20z\"/>\n",
              "  </svg>\n",
              "      </button>\n",
              "      \n",
              "  <style>\n",
              "    .colab-df-container {\n",
              "      display:flex;\n",
              "      flex-wrap:wrap;\n",
              "      gap: 12px;\n",
              "    }\n",
              "\n",
              "    .colab-df-convert {\n",
              "      background-color: #E8F0FE;\n",
              "      border: none;\n",
              "      border-radius: 50%;\n",
              "      cursor: pointer;\n",
              "      display: none;\n",
              "      fill: #1967D2;\n",
              "      height: 32px;\n",
              "      padding: 0 0 0 0;\n",
              "      width: 32px;\n",
              "    }\n",
              "\n",
              "    .colab-df-convert:hover {\n",
              "      background-color: #E2EBFA;\n",
              "      box-shadow: 0px 1px 2px rgba(60, 64, 67, 0.3), 0px 1px 3px 1px rgba(60, 64, 67, 0.15);\n",
              "      fill: #174EA6;\n",
              "    }\n",
              "\n",
              "    [theme=dark] .colab-df-convert {\n",
              "      background-color: #3B4455;\n",
              "      fill: #D2E3FC;\n",
              "    }\n",
              "\n",
              "    [theme=dark] .colab-df-convert:hover {\n",
              "      background-color: #434B5C;\n",
              "      box-shadow: 0px 1px 3px 1px rgba(0, 0, 0, 0.15);\n",
              "      filter: drop-shadow(0px 1px 2px rgba(0, 0, 0, 0.3));\n",
              "      fill: #FFFFFF;\n",
              "    }\n",
              "  </style>\n",
              "\n",
              "      <script>\n",
              "        const buttonEl =\n",
              "          document.querySelector('#df-fd708fd9-4b3e-4deb-876b-ebfea783389b button.colab-df-convert');\n",
              "        buttonEl.style.display =\n",
              "          google.colab.kernel.accessAllowed ? 'block' : 'none';\n",
              "\n",
              "        async function convertToInteractive(key) {\n",
              "          const element = document.querySelector('#df-fd708fd9-4b3e-4deb-876b-ebfea783389b');\n",
              "          const dataTable =\n",
              "            await google.colab.kernel.invokeFunction('convertToInteractive',\n",
              "                                                     [key], {});\n",
              "          if (!dataTable) return;\n",
              "\n",
              "          const docLinkHtml = 'Like what you see? Visit the ' +\n",
              "            '<a target=\"_blank\" href=https://colab.research.google.com/notebooks/data_table.ipynb>data table notebook</a>'\n",
              "            + ' to learn more about interactive tables.';\n",
              "          element.innerHTML = '';\n",
              "          dataTable['output_type'] = 'display_data';\n",
              "          await google.colab.output.renderOutput(dataTable, element);\n",
              "          const docLink = document.createElement('div');\n",
              "          docLink.innerHTML = docLinkHtml;\n",
              "          element.appendChild(docLink);\n",
              "        }\n",
              "      </script>\n",
              "    </div>\n",
              "  </div>\n",
              "  "
            ]
          },
          "metadata": {},
          "execution_count": 103
        }
      ],
      "source": [
        "# открываем данные с локального диска\n",
        "DataSet_one = pd.read_excel('/content/drive/My Drive/HW/bank_account_data.xlsx')\n",
        "df = DataSet_one.copy()\n",
        "df.info()\n",
        "df.head()"
      ]
    },
    {
      "cell_type": "code",
      "source": [
        "df.describe(percentiles= None, include= None, exclude=None) # describle dataframe in pandas"
      ],
      "metadata": {
        "colab": {
          "base_uri": "https://localhost:8080/",
          "height": 300
        },
        "id": "5g5JQmqgJq2l",
        "outputId": "031a0454-9ede-4f71-ffd5-a2172c3c8955"
      },
      "execution_count": null,
      "outputs": [
        {
          "output_type": "execute_result",
          "data": {
            "text/plain": [
              "          Cust_ID    Purchase     Cheq_Bal       Sav_Bal      Debt_Bal  \\\n",
              "count  200.000000  200.000000   200.000000    200.000000    200.000000   \n",
              "mean   100.500000    0.195000  2145.093500  22084.428950   8638.369600   \n",
              "std     57.879185    0.397195   652.712779   6048.106705   5280.852405   \n",
              "min      1.000000    0.000000   644.310000   6558.910000      0.000000   \n",
              "25%     50.750000    0.000000  1720.077500  18079.045000   4608.445000   \n",
              "50%    100.500000    0.000000  2108.125000  21374.210000   8272.175000   \n",
              "75%    150.250000    0.000000  2522.927500  25722.047500  12725.722500   \n",
              "max    200.000000    1.000000  4437.440000  39132.630000  20559.700000   \n",
              "\n",
              "       Joint_Acct         Age  \n",
              "count  200.000000  200.000000  \n",
              "mean     0.295000   38.535000  \n",
              "std      0.457187   11.336284  \n",
              "min      0.000000   18.000000  \n",
              "25%      0.000000   31.000000  \n",
              "50%      0.000000   37.000000  \n",
              "75%      1.000000   47.000000  \n",
              "max      1.000000   60.000000  "
            ],
            "text/html": [
              "\n",
              "  <div id=\"df-87b58e5d-03f1-4b8a-bf08-a80229c43d2f\">\n",
              "    <div class=\"colab-df-container\">\n",
              "      <div>\n",
              "<style scoped>\n",
              "    .dataframe tbody tr th:only-of-type {\n",
              "        vertical-align: middle;\n",
              "    }\n",
              "\n",
              "    .dataframe tbody tr th {\n",
              "        vertical-align: top;\n",
              "    }\n",
              "\n",
              "    .dataframe thead th {\n",
              "        text-align: right;\n",
              "    }\n",
              "</style>\n",
              "<table border=\"1\" class=\"dataframe\">\n",
              "  <thead>\n",
              "    <tr style=\"text-align: right;\">\n",
              "      <th></th>\n",
              "      <th>Cust_ID</th>\n",
              "      <th>Purchase</th>\n",
              "      <th>Cheq_Bal</th>\n",
              "      <th>Sav_Bal</th>\n",
              "      <th>Debt_Bal</th>\n",
              "      <th>Joint_Acct</th>\n",
              "      <th>Age</th>\n",
              "    </tr>\n",
              "  </thead>\n",
              "  <tbody>\n",
              "    <tr>\n",
              "      <th>count</th>\n",
              "      <td>200.000000</td>\n",
              "      <td>200.000000</td>\n",
              "      <td>200.000000</td>\n",
              "      <td>200.000000</td>\n",
              "      <td>200.000000</td>\n",
              "      <td>200.000000</td>\n",
              "      <td>200.000000</td>\n",
              "    </tr>\n",
              "    <tr>\n",
              "      <th>mean</th>\n",
              "      <td>100.500000</td>\n",
              "      <td>0.195000</td>\n",
              "      <td>2145.093500</td>\n",
              "      <td>22084.428950</td>\n",
              "      <td>8638.369600</td>\n",
              "      <td>0.295000</td>\n",
              "      <td>38.535000</td>\n",
              "    </tr>\n",
              "    <tr>\n",
              "      <th>std</th>\n",
              "      <td>57.879185</td>\n",
              "      <td>0.397195</td>\n",
              "      <td>652.712779</td>\n",
              "      <td>6048.106705</td>\n",
              "      <td>5280.852405</td>\n",
              "      <td>0.457187</td>\n",
              "      <td>11.336284</td>\n",
              "    </tr>\n",
              "    <tr>\n",
              "      <th>min</th>\n",
              "      <td>1.000000</td>\n",
              "      <td>0.000000</td>\n",
              "      <td>644.310000</td>\n",
              "      <td>6558.910000</td>\n",
              "      <td>0.000000</td>\n",
              "      <td>0.000000</td>\n",
              "      <td>18.000000</td>\n",
              "    </tr>\n",
              "    <tr>\n",
              "      <th>25%</th>\n",
              "      <td>50.750000</td>\n",
              "      <td>0.000000</td>\n",
              "      <td>1720.077500</td>\n",
              "      <td>18079.045000</td>\n",
              "      <td>4608.445000</td>\n",
              "      <td>0.000000</td>\n",
              "      <td>31.000000</td>\n",
              "    </tr>\n",
              "    <tr>\n",
              "      <th>50%</th>\n",
              "      <td>100.500000</td>\n",
              "      <td>0.000000</td>\n",
              "      <td>2108.125000</td>\n",
              "      <td>21374.210000</td>\n",
              "      <td>8272.175000</td>\n",
              "      <td>0.000000</td>\n",
              "      <td>37.000000</td>\n",
              "    </tr>\n",
              "    <tr>\n",
              "      <th>75%</th>\n",
              "      <td>150.250000</td>\n",
              "      <td>0.000000</td>\n",
              "      <td>2522.927500</td>\n",
              "      <td>25722.047500</td>\n",
              "      <td>12725.722500</td>\n",
              "      <td>1.000000</td>\n",
              "      <td>47.000000</td>\n",
              "    </tr>\n",
              "    <tr>\n",
              "      <th>max</th>\n",
              "      <td>200.000000</td>\n",
              "      <td>1.000000</td>\n",
              "      <td>4437.440000</td>\n",
              "      <td>39132.630000</td>\n",
              "      <td>20559.700000</td>\n",
              "      <td>1.000000</td>\n",
              "      <td>60.000000</td>\n",
              "    </tr>\n",
              "  </tbody>\n",
              "</table>\n",
              "</div>\n",
              "      <button class=\"colab-df-convert\" onclick=\"convertToInteractive('df-87b58e5d-03f1-4b8a-bf08-a80229c43d2f')\"\n",
              "              title=\"Convert this dataframe to an interactive table.\"\n",
              "              style=\"display:none;\">\n",
              "        \n",
              "  <svg xmlns=\"http://www.w3.org/2000/svg\" height=\"24px\"viewBox=\"0 0 24 24\"\n",
              "       width=\"24px\">\n",
              "    <path d=\"M0 0h24v24H0V0z\" fill=\"none\"/>\n",
              "    <path d=\"M18.56 5.44l.94 2.06.94-2.06 2.06-.94-2.06-.94-.94-2.06-.94 2.06-2.06.94zm-11 1L8.5 8.5l.94-2.06 2.06-.94-2.06-.94L8.5 2.5l-.94 2.06-2.06.94zm10 10l.94 2.06.94-2.06 2.06-.94-2.06-.94-.94-2.06-.94 2.06-2.06.94z\"/><path d=\"M17.41 7.96l-1.37-1.37c-.4-.4-.92-.59-1.43-.59-.52 0-1.04.2-1.43.59L10.3 9.45l-7.72 7.72c-.78.78-.78 2.05 0 2.83L4 21.41c.39.39.9.59 1.41.59.51 0 1.02-.2 1.41-.59l7.78-7.78 2.81-2.81c.8-.78.8-2.07 0-2.86zM5.41 20L4 18.59l7.72-7.72 1.47 1.35L5.41 20z\"/>\n",
              "  </svg>\n",
              "      </button>\n",
              "      \n",
              "  <style>\n",
              "    .colab-df-container {\n",
              "      display:flex;\n",
              "      flex-wrap:wrap;\n",
              "      gap: 12px;\n",
              "    }\n",
              "\n",
              "    .colab-df-convert {\n",
              "      background-color: #E8F0FE;\n",
              "      border: none;\n",
              "      border-radius: 50%;\n",
              "      cursor: pointer;\n",
              "      display: none;\n",
              "      fill: #1967D2;\n",
              "      height: 32px;\n",
              "      padding: 0 0 0 0;\n",
              "      width: 32px;\n",
              "    }\n",
              "\n",
              "    .colab-df-convert:hover {\n",
              "      background-color: #E2EBFA;\n",
              "      box-shadow: 0px 1px 2px rgba(60, 64, 67, 0.3), 0px 1px 3px 1px rgba(60, 64, 67, 0.15);\n",
              "      fill: #174EA6;\n",
              "    }\n",
              "\n",
              "    [theme=dark] .colab-df-convert {\n",
              "      background-color: #3B4455;\n",
              "      fill: #D2E3FC;\n",
              "    }\n",
              "\n",
              "    [theme=dark] .colab-df-convert:hover {\n",
              "      background-color: #434B5C;\n",
              "      box-shadow: 0px 1px 3px 1px rgba(0, 0, 0, 0.15);\n",
              "      filter: drop-shadow(0px 1px 2px rgba(0, 0, 0, 0.3));\n",
              "      fill: #FFFFFF;\n",
              "    }\n",
              "  </style>\n",
              "\n",
              "      <script>\n",
              "        const buttonEl =\n",
              "          document.querySelector('#df-87b58e5d-03f1-4b8a-bf08-a80229c43d2f button.colab-df-convert');\n",
              "        buttonEl.style.display =\n",
              "          google.colab.kernel.accessAllowed ? 'block' : 'none';\n",
              "\n",
              "        async function convertToInteractive(key) {\n",
              "          const element = document.querySelector('#df-87b58e5d-03f1-4b8a-bf08-a80229c43d2f');\n",
              "          const dataTable =\n",
              "            await google.colab.kernel.invokeFunction('convertToInteractive',\n",
              "                                                     [key], {});\n",
              "          if (!dataTable) return;\n",
              "\n",
              "          const docLinkHtml = 'Like what you see? Visit the ' +\n",
              "            '<a target=\"_blank\" href=https://colab.research.google.com/notebooks/data_table.ipynb>data table notebook</a>'\n",
              "            + ' to learn more about interactive tables.';\n",
              "          element.innerHTML = '';\n",
              "          dataTable['output_type'] = 'display_data';\n",
              "          await google.colab.output.renderOutput(dataTable, element);\n",
              "          const docLink = document.createElement('div');\n",
              "          docLink.innerHTML = docLinkHtml;\n",
              "          element.appendChild(docLink);\n",
              "        }\n",
              "      </script>\n",
              "    </div>\n",
              "  </div>\n",
              "  "
            ]
          },
          "metadata": {},
          "execution_count": 25
        }
      ]
    },
    {
      "cell_type": "code",
      "source": [
        "bank_accaunt = sqlite3.connect('/content/drive/My Drive/HW/bank_account_data.xlsx')"
      ],
      "metadata": {
        "id": "jgMU_QLXJ7ni"
      },
      "execution_count": null,
      "outputs": []
    },
    {
      "cell_type": "code",
      "source": [
        "bank_accaunt = pd.read_excel('/content/drive/My Drive/HW/bank_account_data.xlsx')"
      ],
      "metadata": {
        "id": "Dlu2b-t4dekQ"
      },
      "execution_count": null,
      "outputs": []
    },
    {
      "cell_type": "code",
      "source": [
        "bank_db = pandasql.sqldf(\"DESCRIBE bank_accaunt;\") # ОПИСАНИЕ В SQL\n",
        "print(bank_db)"
      ],
      "metadata": {
        "id": "_-_DJ6QMiOZc"
      },
      "execution_count": null,
      "outputs": []
    },
    {
      "cell_type": "code",
      "source": [],
      "metadata": {
        "id": "3qtTXUgUMATX"
      },
      "execution_count": null,
      "outputs": []
    },
    {
      "cell_type": "markdown",
      "metadata": {
        "id": "rhFfee7EGcn0"
      },
      "source": [
        "**2. Посчитайте совокупный объем средств у клиентов в банке - сумма по всем балансам.**"
      ]
    },
    {
      "cell_type": "code",
      "source": [
        "# сумма по отдельным счетам\n",
        "bank_db = pandasql.sqldf('''SELECT SUM(Cheq_Bal), SUM(Sav_Bal),\n",
        "SUM(Debt_Bal) FROM bank_accaunt;''')\n",
        "print(bank_db)"
      ],
      "metadata": {
        "colab": {
          "base_uri": "https://localhost:8080/"
        },
        "id": "WCMEr5rqo-Hx",
        "outputId": "778bf461-bb2b-47e0-8ebc-021084d0ddb8"
      },
      "execution_count": null,
      "outputs": [
        {
          "output_type": "stream",
          "name": "stdout",
          "text": [
            "   SUM(Cheq_Bal)  SUM(Sav_Bal)  SUM(Debt_Bal)\n",
            "0       429018.7    4416885.79     1727673.92\n"
          ]
        }
      ]
    },
    {
      "cell_type": "code",
      "source": [
        "# сумма по всем счетам\n",
        "bank_db = pandasql.sqldf('''SELECT SUM(Cheq_Bal) + SUM(Sav_Bal) + SUM(Debt_Bal) \n",
        "FROM bank_accaunt;''') \n",
        "print(bank_db)"
      ],
      "metadata": {
        "colab": {
          "base_uri": "https://localhost:8080/"
        },
        "id": "gTQZMEfQxNIw",
        "outputId": "f74c8bde-707b-4b6d-c003-86467dda5bf6"
      },
      "execution_count": null,
      "outputs": [
        {
          "output_type": "stream",
          "name": "stdout",
          "text": [
            "   SUM(Cheq_Bal) + SUM(Sav_Bal) + SUM(Debt_Bal)\n",
            "0                                    6573578.41\n"
          ]
        }
      ]
    },
    {
      "cell_type": "markdown",
      "metadata": {
        "id": "JgwU10gSGfQZ"
      },
      "source": [
        "**3. Выведите только тех клиентов, которые приобрели ипотеку (колонка mortgage).**"
      ]
    },
    {
      "cell_type": "code",
      "source": [
        "# Приобретение ипотеки очевидно отражено в колонке Purchase (т.к. колонки mortage нет,\n",
        "# а есть название таблицы данных)\n",
        "bank_db = pandasql.sqldf(\"SELECT * FROM bank_accaunt WHERE Purchase = 1;\")\n",
        "print(bank_db)"
      ],
      "metadata": {
        "id": "lkdSgrax3rzp",
        "colab": {
          "base_uri": "https://localhost:8080/"
        },
        "outputId": "59e1f820-c2c7-40a1-99a9-c7f8e0c61bc0"
      },
      "execution_count": null,
      "outputs": [
        {
          "output_type": "stream",
          "name": "stdout",
          "text": [
            "    Cust_ID  Purchase  Cheq_Bal   Sav_Bal  Debt_Bal  Joint_Acct  Age  \\\n",
            "0         4         1   2880.28  32317.63   7075.03           0   28   \n",
            "1         6         1   1936.83  34793.91   5107.54           1   18   \n",
            "2         7         1   3120.64  26794.63      0.00           0   18   \n",
            "3        11         1   3102.62  30968.27   4061.99           1   30   \n",
            "4        13         1   3130.37  25835.62      0.00           1   18   \n",
            "5        17         1   3039.48  30613.79   5554.76           0   18   \n",
            "6        18         1   2494.98  24373.14   9698.50           1   18   \n",
            "7        20         1   2298.07  26145.04   1501.87           0   21   \n",
            "8        22         1   2549.88  34471.03   6742.45           0   21   \n",
            "9        31         1   2665.14  20165.00      0.00           1   18   \n",
            "10       36         1   2319.18  25954.64   6815.54           1   39   \n",
            "11       38         1   4299.16  20375.43      0.00           0   25   \n",
            "12       40         1   2513.96  26745.83  14411.41           0   18   \n",
            "13       41         1   3615.80  24983.76   5663.16           0   45   \n",
            "14       54         1   2754.18  33349.32   7459.32           1   18   \n",
            "15       56         1   2790.23  31067.08   5092.66           0   39   \n",
            "16       59         1   3220.97  36129.45      0.00           1   32   \n",
            "17       60         1   2701.66  29715.61      0.00           0   37   \n",
            "18       74         1   1947.82  30773.03   3030.66           0   18   \n",
            "19       76         1   3607.71  28075.38   5003.81           1   31   \n",
            "20       80         1   1777.86  31724.27   6246.78           1   40   \n",
            "21       87         1   2843.90  33648.94      0.00           0   33   \n",
            "22       91         1   3106.03  27822.58   5006.80           0   22   \n",
            "23       93         1   2797.89  37555.34   1943.04           1   43   \n",
            "24       94         1   2243.11  30612.97   3342.03           0   44   \n",
            "25       97         1   2407.89  33979.81      0.00           0   44   \n",
            "26      100         1   2711.18  25006.94      0.00           0   18   \n",
            "27      107         1   1972.26  25263.32   2046.91           1   34   \n",
            "28      111         1   2923.71  36412.42      0.00           1   39   \n",
            "29      113         1   3457.57  28487.17      0.00           0   18   \n",
            "30      132         1   2604.41  39132.63  14560.47           1   18   \n",
            "31      146         1   2150.40  31448.05   4611.83           1   24   \n",
            "32      154         1   4437.44  30606.51   1619.60           1   18   \n",
            "33      166         1   3352.54  28346.26   2751.76           1   43   \n",
            "34      169         1   2886.44  20443.86   5614.26           1   35   \n",
            "35      182         1   2239.27  35595.95   1370.95           1   23   \n",
            "36      184         1   2054.06  25825.63   3486.34           1   44   \n",
            "37      185         1   1759.04  29198.17   3285.39           1   36   \n",
            "38      189         1   2847.09  30716.60      0.00           1   18   \n",
            "\n",
            "                          Date  \n",
            "0   2017-04-30 00:00:00.000000  \n",
            "1   2017-05-30 00:00:00.000000  \n",
            "2   2017-08-13 00:00:00.000000  \n",
            "3   2017-05-16 00:00:00.000000  \n",
            "4   2017-07-07 00:00:00.000000  \n",
            "5   2017-06-29 00:00:00.000000  \n",
            "6   2017-08-29 00:00:00.000000  \n",
            "7   2017-07-22 00:00:00.000000  \n",
            "8   2017-04-04 00:00:00.000000  \n",
            "9   2017-05-30 00:00:00.000000  \n",
            "10  2017-04-22 00:00:00.000000  \n",
            "11  2017-08-09 00:00:00.000000  \n",
            "12  2017-07-11 00:00:00.000000  \n",
            "13  2017-08-25 00:00:00.000000  \n",
            "14  2017-04-15 00:00:00.000000  \n",
            "15  2017-05-29 00:00:00.000000  \n",
            "16  2017-05-19 00:00:00.000000  \n",
            "17  2017-04-19 00:00:00.000000  \n",
            "18  2017-07-29 00:00:00.000000  \n",
            "19  2017-04-23 00:00:00.000000  \n",
            "20  2017-07-09 00:00:00.000000  \n",
            "21  2017-04-25 00:00:00.000000  \n",
            "22  2017-07-05 00:00:00.000000  \n",
            "23  2017-04-12 00:00:00.000000  \n",
            "24  2017-08-17 00:00:00.000000  \n",
            "25  2017-07-13 00:00:00.000000  \n",
            "26  2017-07-02 00:00:00.000000  \n",
            "27  2017-08-15 00:00:00.000000  \n",
            "28  2017-06-19 00:00:00.000000  \n",
            "29  2017-06-08 00:00:00.000000  \n",
            "30  2017-08-01 00:00:00.000000  \n",
            "31  2017-07-02 00:00:00.000000  \n",
            "32  2017-08-14 00:00:00.000000  \n",
            "33  2017-05-28 00:00:00.000000  \n",
            "34  2017-06-19 00:00:00.000000  \n",
            "35  2017-05-03 00:00:00.000000  \n",
            "36  2017-06-15 00:00:00.000000  \n",
            "37  2017-04-01 00:00:00.000000  \n",
            "38  2017-07-03 00:00:00.000000  \n"
          ]
        }
      ]
    },
    {
      "cell_type": "markdown",
      "metadata": {
        "id": "VSsvGwBAGhp6"
      },
      "source": [
        "**4. Какой совокупный объем средств в среднем у клиентов, которые приобрели ипотеку и у клиентов, которые её не приобретали?**"
      ]
    },
    {
      "cell_type": "code",
      "source": [
        "# Объем соредств у клиентов банка, которые приобрели иботеку по всем балансам\n",
        "bank_db = pandasql.sqldf('''SELECT SUM(Cheq_Bal) + SUM(Sav_Bal) + SUM(Debt_Bal)\n",
        "FROM bank_accaunt WHERE Purchase = 1;''') \n",
        "print(bank_db)"
      ],
      "metadata": {
        "colab": {
          "base_uri": "https://localhost:8080/"
        },
        "id": "jC_0t1M149-i",
        "outputId": "00f01181-74fd-448e-8fed-3244e684a5dd"
      },
      "execution_count": null,
      "outputs": [
        {
          "output_type": "stream",
          "name": "stdout",
          "text": [
            "   SUM(Cheq_Bal) + SUM(Sav_Bal) + SUM(Debt_Bal)\n",
            "0                                    1406140.92\n"
          ]
        }
      ]
    },
    {
      "cell_type": "code",
      "source": [
        "# Объем соредств у клиентов банка, которые приобрели иботеку по отдельным балансам\n",
        "bank_db = pandasql.sqldf('''SELECT SUM(Cheq_Bal), SUM(Sav_Bal), \n",
        "SUM(Debt_Bal) FROM bank_accaunt WHERE Purchase = 1;''') \n",
        "print(bank_db)"
      ],
      "metadata": {
        "colab": {
          "base_uri": "https://localhost:8080/"
        },
        "id": "49QSTvR65POi",
        "outputId": "8ff8fdd6-10f4-44b2-85c0-bcae32d7c4a1"
      },
      "execution_count": null,
      "outputs": [
        {
          "output_type": "stream",
          "name": "stdout",
          "text": [
            "   SUM(Cheq_Bal)  SUM(Sav_Bal)  SUM(Debt_Bal)\n",
            "0      107561.05    1155475.01      143104.86\n"
          ]
        }
      ]
    },
    {
      "cell_type": "code",
      "source": [
        "# Объем соредств у клиентов банка, которые НЕ приобрели иботеку по всем балансам\n",
        "bank_db = pandasql.sqldf('''SELECT SUM(Cheq_Bal) + SUM(Sav_Bal) + SUM(Debt_Bal)\n",
        "FROM bank_accaunt WHERE Purchase = 0;''') \n",
        "print(bank_db)"
      ],
      "metadata": {
        "colab": {
          "base_uri": "https://localhost:8080/"
        },
        "id": "VstTh0j15Y5Q",
        "outputId": "b0b6d8cc-96d0-4477-f8e5-b7d4783ed3ed"
      },
      "execution_count": null,
      "outputs": [
        {
          "output_type": "stream",
          "name": "stdout",
          "text": [
            "   SUM(Cheq_Bal) + SUM(Sav_Bal) + SUM(Debt_Bal)\n",
            "0                                    5167437.49\n"
          ]
        }
      ]
    },
    {
      "cell_type": "code",
      "source": [
        "# Объем соредств у клиентов банка, которые НЕ приобрели иботеку по отдельным балансам\n",
        "bank_db = pandasql.sqldf('''SELECT SUM(Cheq_Bal), SUM(Sav_Bal), SUM(Debt_Bal) \n",
        "FROM bank_accaunt WHERE Purchase = 0;''') \n",
        "print(bank_db)"
      ],
      "metadata": {
        "colab": {
          "base_uri": "https://localhost:8080/"
        },
        "id": "EJVx1yLP5epu",
        "outputId": "02b78cca-165c-4ae4-a101-6c859bf96dc9"
      },
      "execution_count": null,
      "outputs": [
        {
          "output_type": "stream",
          "name": "stdout",
          "text": [
            "   SUM(Cheq_Bal)  SUM(Sav_Bal)  SUM(Debt_Bal)\n",
            "0      321457.65    3261410.78     1584569.06\n"
          ]
        }
      ]
    },
    {
      "cell_type": "markdown",
      "metadata": {
        "id": "RtxeQv-CGkEK"
      },
      "source": [
        "**5. Есть ли разница в среднем по каждому из типов баланса у клиентов, которые приобрели ипотеку и у клиентов, которые её не приобретали?**"
      ]
    },
    {
      "cell_type": "code",
      "source": [
        "# Среднее по отдельным счетам у клиентов банка, которые НЕ приобрели иботеку\n",
        "bank_db = pandasql.sqldf('''SELECT AVG(Cheq_Bal), AVG(Sav_Bal), AVG(Debt_Bal) \n",
        "FROM bank_accaunt WHERE Purchase = 0;''') \n",
        "print(bank_db)\n",
        "# Среднее по отдельным счетам у клиентов банка, которые приобрели иботеку\n",
        "bank_db = pandasql.sqldf('''SELECT AVG(Cheq_Bal), AVG(Sav_Bal),AVG(Debt_Bal) \n",
        "FROM bank_accaunt WHERE Purchase = 1;''') \n",
        "print(bank_db)\n",
        "# Наглядно видно, что по  счету у Sav_Bal среднее значение больше у клиентов \n",
        "# банка, которые не брали ипотеку. По остальным счетам ситуация обратная"
      ],
      "metadata": {
        "colab": {
          "base_uri": "https://localhost:8080/"
        },
        "id": "jMBsPdgq7DKY",
        "outputId": "56811804-5926-4427-9780-b52b0b8fc6e8"
      },
      "execution_count": null,
      "outputs": [
        {
          "output_type": "stream",
          "name": "stdout",
          "text": [
            "   AVG(Cheq_Bal)  AVG(Sav_Bal)  AVG(Debt_Bal)\n",
            "0    1996.631366  20257.209814    9842.043851\n",
            "   AVG(Cheq_Bal)  AVG(Sav_Bal)  AVG(Debt_Bal)\n",
            "0    2757.975641  29627.564359    3669.355385\n"
          ]
        }
      ]
    },
    {
      "cell_type": "markdown",
      "metadata": {
        "id": "5ybjcYZ0Gn4Z"
      },
      "source": [
        "**6. Выберите самого возрастного получателя ипотеки.**"
      ]
    },
    {
      "cell_type": "code",
      "source": [
        "bank_db = pandasql.sqldf(\"SELECT Cust_ID, AGE FROM bank_accaunt WHERE Purchase = 0 ;\") \n",
        "print(bank_db)"
      ],
      "metadata": {
        "id": "7f7RMx1V8NHL",
        "colab": {
          "base_uri": "https://localhost:8080/"
        },
        "outputId": "ecace968-f51f-497b-a8bc-e1e440341d39"
      },
      "execution_count": null,
      "outputs": [
        {
          "output_type": "stream",
          "name": "stdout",
          "text": [
            "     Cust_ID  Age\n",
            "0          1   49\n",
            "1          2   39\n",
            "2          3   52\n",
            "3          5   43\n",
            "4          8   47\n",
            "..       ...  ...\n",
            "156      196   32\n",
            "157      197   27\n",
            "158      198   44\n",
            "159      199   38\n",
            "160      200   56\n",
            "\n",
            "[161 rows x 2 columns]\n"
          ]
        }
      ]
    },
    {
      "cell_type": "markdown",
      "metadata": {
        "id": "gEWtF_n-Grry"
      },
      "source": [
        "**7. Выберите клиента, который раньше всех получил ипотеку.**"
      ]
    },
    {
      "cell_type": "code",
      "source": [
        "bank_db = pandasql.sqldf('''SELECT Cust_ID, Age FROM bank_accaunt \n",
        "WHERE Purchase = 0 ORDER BY Age DESC LIMIT 1;''') \n",
        "print(bank_db)"
      ],
      "metadata": {
        "colab": {
          "base_uri": "https://localhost:8080/"
        },
        "id": "edauncLdK8yi",
        "outputId": "66349ff3-1531-4621-b9ed-971a13c7fafe"
      },
      "execution_count": null,
      "outputs": [
        {
          "output_type": "stream",
          "name": "stdout",
          "text": [
            "   Cust_ID  Age\n",
            "0       34   60\n"
          ]
        }
      ]
    },
    {
      "cell_type": "markdown",
      "metadata": {
        "id": "oH9zUdm5HAKp"
      },
      "source": [
        "**8. Создайте любую базу данных в sqlite3, состоящую из 5 колонок, одна из колонок обязательно должна быть типа REAL. (Названия колонок любые, какие захотите)**"
      ]
    },
    {
      "cell_type": "code",
      "source": [
        "import sqlite3\n",
        "conn = sqlite3.connect(\"test_basa.db\")\n",
        "cur = conn.cursor()\n",
        "cur.execute ('''\n",
        "CREATE TABLE patients \n",
        "(id INTEGER, \n",
        "name STRING, \n",
        "data_of_birth DATE, \n",
        "adress STRING, \n",
        "wight REAL);''')\n",
        "res = cur.execute(\"SELECT name FROM sqlite_master\")\n",
        "res.fetchone()"
      ],
      "metadata": {
        "id": "KKf7F1RdMFCd",
        "colab": {
          "base_uri": "https://localhost:8080/"
        },
        "outputId": "f9ade44e-c5f6-459e-eb55-aed59ef70187"
      },
      "execution_count": 146,
      "outputs": [
        {
          "output_type": "execute_result",
          "data": {
            "text/plain": [
              "('patients',)"
            ]
          },
          "metadata": {},
          "execution_count": 146
        }
      ]
    },
    {
      "cell_type": "markdown",
      "metadata": {
        "id": "hF-ZqL4FHD0Z"
      },
      "source": [
        "**9. Добавьте 3 полностью заполненные строки в вашу БД.**"
      ]
    },
    {
      "cell_type": "code",
      "source": [
        "con = sqlite3.connect(\"test_basa.db\")\n",
        "cur = con.cursor()\n",
        "cur.execute ('''INSERT INTO patients VALUES\n",
        "  (1, 'Ivanov I.I.', 2020-01-01, 'Samara', 52),\n",
        "  (2, 'Ivanov I.P.', 2020-02-01, 'Saratov', 84),\n",
        "  (3, 'Sidorov G.M.', 2015-03-05, 'Moscow', 75)\n",
        "  ;''')"
      ],
      "metadata": {
        "id": "apKyabx9R-lk",
        "colab": {
          "base_uri": "https://localhost:8080/"
        },
        "outputId": "3f05ded6-29a5-4af0-de74-000afff16937"
      },
      "execution_count": 150,
      "outputs": [
        {
          "output_type": "execute_result",
          "data": {
            "text/plain": [
              "<sqlite3.Cursor at 0x7f8d3095af10>"
            ]
          },
          "metadata": {},
          "execution_count": 150
        }
      ]
    },
    {
      "cell_type": "markdown",
      "metadata": {
        "id": "DySs1AkZHHQa"
      },
      "source": [
        "**10. Удалите строку из колонки типа REAL (из пункта 8), в которой значение признака среднее (то есть не минимальное и не максимальное). Напрямую указывать значение из этой строки нельзя.**"
      ]
    },
    {
      "cell_type": "code",
      "source": [
        "con = sqlite3.connect(\"test_basa.db\")\n",
        "cur = con.cursor()\n",
        "cur.execute(\"DELETE FROM patients WHERE wight = AVG(wight);\")"
      ],
      "metadata": {
        "id": "7gwAiNvoYrV9"
      },
      "execution_count": null,
      "outputs": []
    },
    {
      "cell_type": "code",
      "source": [
        "# альтернативный вариант, если значение не равно минимуму и максимуму\n",
        "con = sqlite3.connect(\"test_basa.db\")\n",
        "cur = con.cursor()\n",
        "cur.execute(\"DELETE FROM patients WHERE wight != MIN(wight) ADN wight != MAX(wight);\")"
      ],
      "metadata": {
        "id": "QBlgULm3Z351"
      },
      "execution_count": null,
      "outputs": []
    }
  ],
  "metadata": {
    "colab": {
      "provenance": [],
      "authorship_tag": "ABX9TyOWHdtBDm/0Ck9q4EqRpQv0",
      "include_colab_link": true
    },
    "kernelspec": {
      "display_name": "Python 3",
      "name": "python3"
    },
    "language_info": {
      "name": "python"
    }
  },
  "nbformat": 4,
  "nbformat_minor": 0
}