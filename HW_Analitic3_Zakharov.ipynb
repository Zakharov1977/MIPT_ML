{
  "nbformat": 4,
  "nbformat_minor": 0,
  "metadata": {
    "colab": {
      "provenance": [],
      "authorship_tag": "ABX9TyO7FJlkBVnCtJy88mG7fSMi",
      "include_colab_link": true
    },
    "kernelspec": {
      "name": "python3",
      "display_name": "Python 3"
    },
    "language_info": {
      "name": "python"
    }
  },
  "cells": [
    {
      "cell_type": "markdown",
      "metadata": {
        "id": "view-in-github",
        "colab_type": "text"
      },
      "source": [
        "<a href=\"https://colab.research.google.com/github/Zakharov1977/MIPT_ML/blob/main/HW_Analitic3_Zakharov.ipynb\" target=\"_parent\"><img src=\"https://colab.research.google.com/assets/colab-badge.svg\" alt=\"Open In Colab\"/></a>"
      ]
    },
    {
      "cell_type": "code",
      "source": [
        "import numpy as np\n",
        "import glob\n",
        "import pandas as pd\n",
        "import seaborn as sns\n",
        "import statsmodels.api as sm\n",
        "from scipy import stats\n",
        "from scipy.stats import shapiro\n",
        "import matplotlib.pyplot as plt"
      ],
      "metadata": {
        "id": "DpehOKxsfk_B"
      },
      "execution_count": 82,
      "outputs": []
    },
    {
      "cell_type": "code",
      "source": [
        "!git clone https://github.com/JeffSackmann/tennis_atp"
      ],
      "metadata": {
        "colab": {
          "base_uri": "https://localhost:8080/"
        },
        "id": "eu8dY_Z0hGjr",
        "outputId": "4be3aff5-baa8-42cc-9ae4-92b502ce92ae"
      },
      "execution_count": 2,
      "outputs": [
        {
          "output_type": "stream",
          "name": "stdout",
          "text": [
            "Cloning into 'tennis_atp'...\n",
            "remote: Enumerating objects: 3358, done.\u001b[K\n",
            "remote: Total 3358 (delta 0), reused 0 (delta 0), pack-reused 3358\u001b[K\n",
            "Receiving objects: 100% (3358/3358), 280.31 MiB | 24.00 MiB/s, done.\n",
            "Resolving deltas: 100% (2622/2622), done.\n",
            "Checking out files: 100% (174/174), done.\n"
          ]
        }
      ]
    },
    {
      "cell_type": "code",
      "source": [
        "glob.glob('tennis_atp/atp_matches_[12][019][01298]*')"
      ],
      "metadata": {
        "colab": {
          "base_uri": "https://localhost:8080/"
        },
        "id": "4UxlYDA6hOnV",
        "outputId": "05597b9f-0cee-46ac-8288-ebfc37204a23"
      },
      "execution_count": 3,
      "outputs": [
        {
          "output_type": "execute_result",
          "data": {
            "text/plain": [
              "['tennis_atp/atp_matches_1980.csv',\n",
              " 'tennis_atp/atp_matches_1986.csv',\n",
              " 'tennis_atp/atp_matches_2011.csv',\n",
              " 'tennis_atp/atp_matches_1984.csv',\n",
              " 'tennis_atp/atp_matches_2003.csv',\n",
              " 'tennis_atp/atp_matches_2016.csv',\n",
              " 'tennis_atp/atp_matches_2020.csv',\n",
              " 'tennis_atp/atp_matches_2006.csv',\n",
              " 'tennis_atp/atp_matches_2018.csv',\n",
              " 'tennis_atp/atp_matches_1982.csv',\n",
              " 'tennis_atp/atp_matches_2010.csv',\n",
              " 'tennis_atp/atp_matches_1998.csv',\n",
              " 'tennis_atp/atp_matches_2002.csv',\n",
              " 'tennis_atp/atp_matches_1997.csv',\n",
              " 'tennis_atp/atp_matches_2012.csv',\n",
              " 'tennis_atp/atp_matches_2021.csv',\n",
              " 'tennis_atp/atp_matches_2001.csv',\n",
              " 'tennis_atp/atp_matches_2004.csv',\n",
              " 'tennis_atp/atp_matches_2013.csv',\n",
              " 'tennis_atp/atp_matches_2005.csv',\n",
              " 'tennis_atp/atp_matches_1995.csv',\n",
              " 'tennis_atp/atp_matches_1996.csv',\n",
              " 'tennis_atp/atp_matches_2019.csv',\n",
              " 'tennis_atp/atp_matches_1981.csv',\n",
              " 'tennis_atp/atp_matches_2017.csv',\n",
              " 'tennis_atp/atp_matches_1987.csv',\n",
              " 'tennis_atp/atp_matches_1990.csv',\n",
              " 'tennis_atp/atp_matches_2015.csv',\n",
              " 'tennis_atp/atp_matches_2014.csv',\n",
              " 'tennis_atp/atp_matches_1994.csv',\n",
              " 'tennis_atp/atp_matches_2007.csv',\n",
              " 'tennis_atp/atp_matches_1992.csv',\n",
              " 'tennis_atp/atp_matches_2008.csv',\n",
              " 'tennis_atp/atp_matches_1988.csv',\n",
              " 'tennis_atp/atp_matches_1985.csv',\n",
              " 'tennis_atp/atp_matches_1999.csv',\n",
              " 'tennis_atp/atp_matches_2000.csv',\n",
              " 'tennis_atp/atp_matches_1983.csv',\n",
              " 'tennis_atp/atp_matches_2022.csv',\n",
              " 'tennis_atp/atp_matches_2009.csv',\n",
              " 'tennis_atp/atp_matches_1993.csv',\n",
              " 'tennis_atp/atp_matches_1989.csv',\n",
              " 'tennis_atp/atp_matches_1991.csv']"
            ]
          },
          "metadata": {},
          "execution_count": 3
        }
      ]
    },
    {
      "cell_type": "code",
      "source": [
        "df = pd.concat([pd.read_csv(i)\n",
        "                for i in glob.glob('tennis_atp/atp_matches_[12][019][01298]*')],\n",
        "                axis=0)"
      ],
      "metadata": {
        "id": "4Cc3OhN8hbPq"
      },
      "execution_count": 5,
      "outputs": []
    },
    {
      "cell_type": "code",
      "source": [
        "df.columns\n"
      ],
      "metadata": {
        "id": "NA75IIJKhd7u",
        "outputId": "8340faac-b6a9-4029-f2a4-8f5d1434c379",
        "colab": {
          "base_uri": "https://localhost:8080/"
        }
      },
      "execution_count": 9,
      "outputs": [
        {
          "output_type": "execute_result",
          "data": {
            "text/plain": [
              "Index(['tourney_id', 'tourney_name', 'surface', 'draw_size', 'tourney_level',\n",
              "       'tourney_date', 'match_num', 'winner_id', 'winner_seed', 'winner_entry',\n",
              "       'winner_name', 'winner_hand', 'winner_ht', 'winner_ioc', 'winner_age',\n",
              "       'loser_id', 'loser_seed', 'loser_entry', 'loser_name', 'loser_hand',\n",
              "       'loser_ht', 'loser_ioc', 'loser_age', 'score', 'best_of', 'round',\n",
              "       'minutes', 'w_ace', 'w_df', 'w_svpt', 'w_1stIn', 'w_1stWon', 'w_2ndWon',\n",
              "       'w_SvGms', 'w_bpSaved', 'w_bpFaced', 'l_ace', 'l_df', 'l_svpt',\n",
              "       'l_1stIn', 'l_1stWon', 'l_2ndWon', 'l_SvGms', 'l_bpSaved', 'l_bpFaced',\n",
              "       'winner_rank', 'winner_rank_points', 'loser_rank', 'loser_rank_points'],\n",
              "      dtype='object')"
            ]
          },
          "metadata": {},
          "execution_count": 9
        }
      ]
    },
    {
      "cell_type": "code",
      "source": [
        "df.head()"
      ],
      "metadata": {
        "colab": {
          "base_uri": "https://localhost:8080/",
          "height": 235
        },
        "id": "A1jppvIsNr12",
        "outputId": "5fb3c289-fbb8-4641-9a78-1c2f9ec088b7"
      },
      "execution_count": 10,
      "outputs": [
        {
          "output_type": "execute_result",
          "data": {
            "text/plain": [
              "  tourney_id      tourney_name surface  draw_size tourney_level  tourney_date  \\\n",
              "0  1980-1725  Pepsi Grand Slam    Clay          4             A      19800208   \n",
              "1  1980-1725  Pepsi Grand Slam    Clay          4             A      19800208   \n",
              "2  1980-1725  Pepsi Grand Slam    Clay          4             A      19800208   \n",
              "3   1980-205             Lagos    Clay         32             A      19800225   \n",
              "4   1980-205             Lagos    Clay         32             A      19800225   \n",
              "\n",
              "   match_num  winner_id winner_seed winner_entry  ... l_1stIn l_1stWon  \\\n",
              "0          1     100437         NaN          NaN  ...     NaN      NaN   \n",
              "1          2     100342         NaN          NaN  ...     NaN      NaN   \n",
              "2          3     100437         NaN          NaN  ...     NaN      NaN   \n",
              "3          1     100259         1.0          NaN  ...     NaN      NaN   \n",
              "4          2     100135         NaN          NaN  ...     NaN      NaN   \n",
              "\n",
              "   l_2ndWon l_SvGms  l_bpSaved  l_bpFaced winner_rank winner_rank_points  \\\n",
              "0       NaN     NaN        NaN        NaN         1.0                NaN   \n",
              "1       NaN     NaN        NaN        NaN         5.0                NaN   \n",
              "2       NaN     NaN        NaN        NaN         1.0                NaN   \n",
              "3       NaN     NaN        NaN        NaN        58.0                NaN   \n",
              "4       NaN     NaN        NaN        NaN         NaN                NaN   \n",
              "\n",
              "  loser_rank loser_rank_points  \n",
              "0        6.0               NaN  \n",
              "1        2.0               NaN  \n",
              "2        5.0               NaN  \n",
              "3        NaN               NaN  \n",
              "4        NaN               NaN  \n",
              "\n",
              "[5 rows x 49 columns]"
            ],
            "text/html": [
              "\n",
              "  <div id=\"df-62640262-6901-40ea-9c36-d690b095795e\">\n",
              "    <div class=\"colab-df-container\">\n",
              "      <div>\n",
              "<style scoped>\n",
              "    .dataframe tbody tr th:only-of-type {\n",
              "        vertical-align: middle;\n",
              "    }\n",
              "\n",
              "    .dataframe tbody tr th {\n",
              "        vertical-align: top;\n",
              "    }\n",
              "\n",
              "    .dataframe thead th {\n",
              "        text-align: right;\n",
              "    }\n",
              "</style>\n",
              "<table border=\"1\" class=\"dataframe\">\n",
              "  <thead>\n",
              "    <tr style=\"text-align: right;\">\n",
              "      <th></th>\n",
              "      <th>tourney_id</th>\n",
              "      <th>tourney_name</th>\n",
              "      <th>surface</th>\n",
              "      <th>draw_size</th>\n",
              "      <th>tourney_level</th>\n",
              "      <th>tourney_date</th>\n",
              "      <th>match_num</th>\n",
              "      <th>winner_id</th>\n",
              "      <th>winner_seed</th>\n",
              "      <th>winner_entry</th>\n",
              "      <th>...</th>\n",
              "      <th>l_1stIn</th>\n",
              "      <th>l_1stWon</th>\n",
              "      <th>l_2ndWon</th>\n",
              "      <th>l_SvGms</th>\n",
              "      <th>l_bpSaved</th>\n",
              "      <th>l_bpFaced</th>\n",
              "      <th>winner_rank</th>\n",
              "      <th>winner_rank_points</th>\n",
              "      <th>loser_rank</th>\n",
              "      <th>loser_rank_points</th>\n",
              "    </tr>\n",
              "  </thead>\n",
              "  <tbody>\n",
              "    <tr>\n",
              "      <th>0</th>\n",
              "      <td>1980-1725</td>\n",
              "      <td>Pepsi Grand Slam</td>\n",
              "      <td>Clay</td>\n",
              "      <td>4</td>\n",
              "      <td>A</td>\n",
              "      <td>19800208</td>\n",
              "      <td>1</td>\n",
              "      <td>100437</td>\n",
              "      <td>NaN</td>\n",
              "      <td>NaN</td>\n",
              "      <td>...</td>\n",
              "      <td>NaN</td>\n",
              "      <td>NaN</td>\n",
              "      <td>NaN</td>\n",
              "      <td>NaN</td>\n",
              "      <td>NaN</td>\n",
              "      <td>NaN</td>\n",
              "      <td>1.0</td>\n",
              "      <td>NaN</td>\n",
              "      <td>6.0</td>\n",
              "      <td>NaN</td>\n",
              "    </tr>\n",
              "    <tr>\n",
              "      <th>1</th>\n",
              "      <td>1980-1725</td>\n",
              "      <td>Pepsi Grand Slam</td>\n",
              "      <td>Clay</td>\n",
              "      <td>4</td>\n",
              "      <td>A</td>\n",
              "      <td>19800208</td>\n",
              "      <td>2</td>\n",
              "      <td>100342</td>\n",
              "      <td>NaN</td>\n",
              "      <td>NaN</td>\n",
              "      <td>...</td>\n",
              "      <td>NaN</td>\n",
              "      <td>NaN</td>\n",
              "      <td>NaN</td>\n",
              "      <td>NaN</td>\n",
              "      <td>NaN</td>\n",
              "      <td>NaN</td>\n",
              "      <td>5.0</td>\n",
              "      <td>NaN</td>\n",
              "      <td>2.0</td>\n",
              "      <td>NaN</td>\n",
              "    </tr>\n",
              "    <tr>\n",
              "      <th>2</th>\n",
              "      <td>1980-1725</td>\n",
              "      <td>Pepsi Grand Slam</td>\n",
              "      <td>Clay</td>\n",
              "      <td>4</td>\n",
              "      <td>A</td>\n",
              "      <td>19800208</td>\n",
              "      <td>3</td>\n",
              "      <td>100437</td>\n",
              "      <td>NaN</td>\n",
              "      <td>NaN</td>\n",
              "      <td>...</td>\n",
              "      <td>NaN</td>\n",
              "      <td>NaN</td>\n",
              "      <td>NaN</td>\n",
              "      <td>NaN</td>\n",
              "      <td>NaN</td>\n",
              "      <td>NaN</td>\n",
              "      <td>1.0</td>\n",
              "      <td>NaN</td>\n",
              "      <td>5.0</td>\n",
              "      <td>NaN</td>\n",
              "    </tr>\n",
              "    <tr>\n",
              "      <th>3</th>\n",
              "      <td>1980-205</td>\n",
              "      <td>Lagos</td>\n",
              "      <td>Clay</td>\n",
              "      <td>32</td>\n",
              "      <td>A</td>\n",
              "      <td>19800225</td>\n",
              "      <td>1</td>\n",
              "      <td>100259</td>\n",
              "      <td>1.0</td>\n",
              "      <td>NaN</td>\n",
              "      <td>...</td>\n",
              "      <td>NaN</td>\n",
              "      <td>NaN</td>\n",
              "      <td>NaN</td>\n",
              "      <td>NaN</td>\n",
              "      <td>NaN</td>\n",
              "      <td>NaN</td>\n",
              "      <td>58.0</td>\n",
              "      <td>NaN</td>\n",
              "      <td>NaN</td>\n",
              "      <td>NaN</td>\n",
              "    </tr>\n",
              "    <tr>\n",
              "      <th>4</th>\n",
              "      <td>1980-205</td>\n",
              "      <td>Lagos</td>\n",
              "      <td>Clay</td>\n",
              "      <td>32</td>\n",
              "      <td>A</td>\n",
              "      <td>19800225</td>\n",
              "      <td>2</td>\n",
              "      <td>100135</td>\n",
              "      <td>NaN</td>\n",
              "      <td>NaN</td>\n",
              "      <td>...</td>\n",
              "      <td>NaN</td>\n",
              "      <td>NaN</td>\n",
              "      <td>NaN</td>\n",
              "      <td>NaN</td>\n",
              "      <td>NaN</td>\n",
              "      <td>NaN</td>\n",
              "      <td>NaN</td>\n",
              "      <td>NaN</td>\n",
              "      <td>NaN</td>\n",
              "      <td>NaN</td>\n",
              "    </tr>\n",
              "  </tbody>\n",
              "</table>\n",
              "<p>5 rows × 49 columns</p>\n",
              "</div>\n",
              "      <button class=\"colab-df-convert\" onclick=\"convertToInteractive('df-62640262-6901-40ea-9c36-d690b095795e')\"\n",
              "              title=\"Convert this dataframe to an interactive table.\"\n",
              "              style=\"display:none;\">\n",
              "        \n",
              "  <svg xmlns=\"http://www.w3.org/2000/svg\" height=\"24px\"viewBox=\"0 0 24 24\"\n",
              "       width=\"24px\">\n",
              "    <path d=\"M0 0h24v24H0V0z\" fill=\"none\"/>\n",
              "    <path d=\"M18.56 5.44l.94 2.06.94-2.06 2.06-.94-2.06-.94-.94-2.06-.94 2.06-2.06.94zm-11 1L8.5 8.5l.94-2.06 2.06-.94-2.06-.94L8.5 2.5l-.94 2.06-2.06.94zm10 10l.94 2.06.94-2.06 2.06-.94-2.06-.94-.94-2.06-.94 2.06-2.06.94z\"/><path d=\"M17.41 7.96l-1.37-1.37c-.4-.4-.92-.59-1.43-.59-.52 0-1.04.2-1.43.59L10.3 9.45l-7.72 7.72c-.78.78-.78 2.05 0 2.83L4 21.41c.39.39.9.59 1.41.59.51 0 1.02-.2 1.41-.59l7.78-7.78 2.81-2.81c.8-.78.8-2.07 0-2.86zM5.41 20L4 18.59l7.72-7.72 1.47 1.35L5.41 20z\"/>\n",
              "  </svg>\n",
              "      </button>\n",
              "      \n",
              "  <style>\n",
              "    .colab-df-container {\n",
              "      display:flex;\n",
              "      flex-wrap:wrap;\n",
              "      gap: 12px;\n",
              "    }\n",
              "\n",
              "    .colab-df-convert {\n",
              "      background-color: #E8F0FE;\n",
              "      border: none;\n",
              "      border-radius: 50%;\n",
              "      cursor: pointer;\n",
              "      display: none;\n",
              "      fill: #1967D2;\n",
              "      height: 32px;\n",
              "      padding: 0 0 0 0;\n",
              "      width: 32px;\n",
              "    }\n",
              "\n",
              "    .colab-df-convert:hover {\n",
              "      background-color: #E2EBFA;\n",
              "      box-shadow: 0px 1px 2px rgba(60, 64, 67, 0.3), 0px 1px 3px 1px rgba(60, 64, 67, 0.15);\n",
              "      fill: #174EA6;\n",
              "    }\n",
              "\n",
              "    [theme=dark] .colab-df-convert {\n",
              "      background-color: #3B4455;\n",
              "      fill: #D2E3FC;\n",
              "    }\n",
              "\n",
              "    [theme=dark] .colab-df-convert:hover {\n",
              "      background-color: #434B5C;\n",
              "      box-shadow: 0px 1px 3px 1px rgba(0, 0, 0, 0.15);\n",
              "      filter: drop-shadow(0px 1px 2px rgba(0, 0, 0, 0.3));\n",
              "      fill: #FFFFFF;\n",
              "    }\n",
              "  </style>\n",
              "\n",
              "      <script>\n",
              "        const buttonEl =\n",
              "          document.querySelector('#df-62640262-6901-40ea-9c36-d690b095795e button.colab-df-convert');\n",
              "        buttonEl.style.display =\n",
              "          google.colab.kernel.accessAllowed ? 'block' : 'none';\n",
              "\n",
              "        async function convertToInteractive(key) {\n",
              "          const element = document.querySelector('#df-62640262-6901-40ea-9c36-d690b095795e');\n",
              "          const dataTable =\n",
              "            await google.colab.kernel.invokeFunction('convertToInteractive',\n",
              "                                                     [key], {});\n",
              "          if (!dataTable) return;\n",
              "\n",
              "          const docLinkHtml = 'Like what you see? Visit the ' +\n",
              "            '<a target=\"_blank\" href=https://colab.research.google.com/notebooks/data_table.ipynb>data table notebook</a>'\n",
              "            + ' to learn more about interactive tables.';\n",
              "          element.innerHTML = '';\n",
              "          dataTable['output_type'] = 'display_data';\n",
              "          await google.colab.output.renderOutput(dataTable, element);\n",
              "          const docLink = document.createElement('div');\n",
              "          docLink.innerHTML = docLinkHtml;\n",
              "          element.appendChild(docLink);\n",
              "        }\n",
              "      </script>\n",
              "    </div>\n",
              "  </div>\n",
              "  "
            ]
          },
          "metadata": {},
          "execution_count": 10
        }
      ]
    },
    {
      "cell_type": "markdown",
      "source": [
        "ЗАДАЧИ:\n",
        "Ваша задача — проверить, как изменился мир тенниса за последнее время. Для анализа используйте этот датасет. Применяйте только данные из одиночного разряда (файлы в формате «atp_matches_YYYY.csv»). Желательно сопровождать выбранный статистический тест ссылкой на его документацию и указывать нулевую гипотезу, которую этот тест проверяет. Далеко не всегда это очевидно."
      ],
      "metadata": {
        "id": "sDBRwytzEjdM"
      }
    },
    {
      "cell_type": "markdown",
      "source": [
        "1. Вы хотите узнать, как много значит ранг игрока в теннисе. Проверьте следующие утверждения:\n",
        "\n",
        "а) Если ранг игрока выше более, чем на 20 позиций, то в среднем он будет выигрывать с большей вероятностью. (Если хотите проверить статистически — формируйте выборку как отклонение от ожидаемого количества побед при случайном исходе);"
      ],
      "metadata": {
        "id": "Y0Qof3rMElyM"
      }
    },
    {
      "cell_type": "code",
      "source": [
        "# change data format\n",
        "df.tourney_date.apply(lambda x: '%.0f' % round(x, 0))\n",
        "df.loc[:, 'tourney_date'] = pd.to_datetime(df['tourney_date'], format='%Y%m%d')\n",
        "df['tourney_date']"
      ],
      "metadata": {
        "id": "cVLDMAhLfVy0",
        "colab": {
          "base_uri": "https://localhost:8080/",
          "height": 362
        },
        "outputId": "a9d1548f-2ca3-4079-b7cf-5f336b2abb0c"
      },
      "execution_count": 83,
      "outputs": [
        {
          "output_type": "error",
          "ename": "TypeError",
          "evalue": "ignored",
          "traceback": [
            "\u001b[0;31m---------------------------------------------------------------------------\u001b[0m",
            "\u001b[0;31mTypeError\u001b[0m                                 Traceback (most recent call last)",
            "\u001b[0;32m<ipython-input-83-c1c2ce83f912>\u001b[0m in \u001b[0;36m<module>\u001b[0;34m\u001b[0m\n\u001b[1;32m      1\u001b[0m \u001b[0;31m# change data format\u001b[0m\u001b[0;34m\u001b[0m\u001b[0;34m\u001b[0m\u001b[0;34m\u001b[0m\u001b[0m\n\u001b[0;32m----> 2\u001b[0;31m \u001b[0mdf\u001b[0m\u001b[0;34m.\u001b[0m\u001b[0mtourney_date\u001b[0m\u001b[0;34m.\u001b[0m\u001b[0mapply\u001b[0m\u001b[0;34m(\u001b[0m\u001b[0;32mlambda\u001b[0m \u001b[0mx\u001b[0m\u001b[0;34m:\u001b[0m \u001b[0;34m'%.0f'\u001b[0m \u001b[0;34m%\u001b[0m \u001b[0mround\u001b[0m\u001b[0;34m(\u001b[0m\u001b[0mx\u001b[0m\u001b[0;34m,\u001b[0m \u001b[0;36m0\u001b[0m\u001b[0;34m)\u001b[0m\u001b[0;34m)\u001b[0m\u001b[0;34m\u001b[0m\u001b[0;34m\u001b[0m\u001b[0m\n\u001b[0m\u001b[1;32m      3\u001b[0m \u001b[0mdf\u001b[0m\u001b[0;34m.\u001b[0m\u001b[0mloc\u001b[0m\u001b[0;34m[\u001b[0m\u001b[0;34m:\u001b[0m\u001b[0;34m,\u001b[0m \u001b[0;34m'tourney_date'\u001b[0m\u001b[0;34m]\u001b[0m \u001b[0;34m=\u001b[0m \u001b[0mpd\u001b[0m\u001b[0;34m.\u001b[0m\u001b[0mto_datetime\u001b[0m\u001b[0;34m(\u001b[0m\u001b[0mdf\u001b[0m\u001b[0;34m[\u001b[0m\u001b[0;34m'tourney_date'\u001b[0m\u001b[0;34m]\u001b[0m\u001b[0;34m,\u001b[0m \u001b[0mformat\u001b[0m\u001b[0;34m=\u001b[0m\u001b[0;34m'%Y%m%d'\u001b[0m\u001b[0;34m)\u001b[0m\u001b[0;34m\u001b[0m\u001b[0;34m\u001b[0m\u001b[0m\n\u001b[1;32m      4\u001b[0m \u001b[0mdf\u001b[0m\u001b[0;34m[\u001b[0m\u001b[0;34m'tourney_date'\u001b[0m\u001b[0;34m]\u001b[0m\u001b[0;34m\u001b[0m\u001b[0;34m\u001b[0m\u001b[0m\n",
            "\u001b[0;32m/usr/local/lib/python3.8/dist-packages/pandas/core/series.py\u001b[0m in \u001b[0;36mapply\u001b[0;34m(self, func, convert_dtype, args, **kwargs)\u001b[0m\n\u001b[1;32m   4355\u001b[0m         \u001b[0mdtype\u001b[0m\u001b[0;34m:\u001b[0m \u001b[0mfloat64\u001b[0m\u001b[0;34m\u001b[0m\u001b[0;34m\u001b[0m\u001b[0m\n\u001b[1;32m   4356\u001b[0m         \"\"\"\n\u001b[0;32m-> 4357\u001b[0;31m         \u001b[0;32mreturn\u001b[0m \u001b[0mSeriesApply\u001b[0m\u001b[0;34m(\u001b[0m\u001b[0mself\u001b[0m\u001b[0;34m,\u001b[0m \u001b[0mfunc\u001b[0m\u001b[0;34m,\u001b[0m \u001b[0mconvert_dtype\u001b[0m\u001b[0;34m,\u001b[0m \u001b[0margs\u001b[0m\u001b[0;34m,\u001b[0m \u001b[0mkwargs\u001b[0m\u001b[0;34m)\u001b[0m\u001b[0;34m.\u001b[0m\u001b[0mapply\u001b[0m\u001b[0;34m(\u001b[0m\u001b[0;34m)\u001b[0m\u001b[0;34m\u001b[0m\u001b[0;34m\u001b[0m\u001b[0m\n\u001b[0m\u001b[1;32m   4358\u001b[0m \u001b[0;34m\u001b[0m\u001b[0m\n\u001b[1;32m   4359\u001b[0m     def _reduce(\n",
            "\u001b[0;32m/usr/local/lib/python3.8/dist-packages/pandas/core/apply.py\u001b[0m in \u001b[0;36mapply\u001b[0;34m(self)\u001b[0m\n\u001b[1;32m   1041\u001b[0m             \u001b[0;32mreturn\u001b[0m \u001b[0mself\u001b[0m\u001b[0;34m.\u001b[0m\u001b[0mapply_str\u001b[0m\u001b[0;34m(\u001b[0m\u001b[0;34m)\u001b[0m\u001b[0;34m\u001b[0m\u001b[0;34m\u001b[0m\u001b[0m\n\u001b[1;32m   1042\u001b[0m \u001b[0;34m\u001b[0m\u001b[0m\n\u001b[0;32m-> 1043\u001b[0;31m         \u001b[0;32mreturn\u001b[0m \u001b[0mself\u001b[0m\u001b[0;34m.\u001b[0m\u001b[0mapply_standard\u001b[0m\u001b[0;34m(\u001b[0m\u001b[0;34m)\u001b[0m\u001b[0;34m\u001b[0m\u001b[0;34m\u001b[0m\u001b[0m\n\u001b[0m\u001b[1;32m   1044\u001b[0m \u001b[0;34m\u001b[0m\u001b[0m\n\u001b[1;32m   1045\u001b[0m     \u001b[0;32mdef\u001b[0m \u001b[0magg\u001b[0m\u001b[0;34m(\u001b[0m\u001b[0mself\u001b[0m\u001b[0;34m)\u001b[0m\u001b[0;34m:\u001b[0m\u001b[0;34m\u001b[0m\u001b[0;34m\u001b[0m\u001b[0m\n",
            "\u001b[0;32m/usr/local/lib/python3.8/dist-packages/pandas/core/apply.py\u001b[0m in \u001b[0;36mapply_standard\u001b[0;34m(self)\u001b[0m\n\u001b[1;32m   1096\u001b[0m                 \u001b[0;31m# List[Union[Callable[..., Any], str]]]]]\"; expected\u001b[0m\u001b[0;34m\u001b[0m\u001b[0;34m\u001b[0m\u001b[0;34m\u001b[0m\u001b[0m\n\u001b[1;32m   1097\u001b[0m                 \u001b[0;31m# \"Callable[[Any], Any]\"\u001b[0m\u001b[0;34m\u001b[0m\u001b[0;34m\u001b[0m\u001b[0;34m\u001b[0m\u001b[0m\n\u001b[0;32m-> 1098\u001b[0;31m                 mapped = lib.map_infer(\n\u001b[0m\u001b[1;32m   1099\u001b[0m                     \u001b[0mvalues\u001b[0m\u001b[0;34m,\u001b[0m\u001b[0;34m\u001b[0m\u001b[0;34m\u001b[0m\u001b[0m\n\u001b[1;32m   1100\u001b[0m                     \u001b[0mf\u001b[0m\u001b[0;34m,\u001b[0m  \u001b[0;31m# type: ignore[arg-type]\u001b[0m\u001b[0;34m\u001b[0m\u001b[0;34m\u001b[0m\u001b[0m\n",
            "\u001b[0;32m/usr/local/lib/python3.8/dist-packages/pandas/_libs/lib.pyx\u001b[0m in \u001b[0;36mpandas._libs.lib.map_infer\u001b[0;34m()\u001b[0m\n",
            "\u001b[0;32m<ipython-input-83-c1c2ce83f912>\u001b[0m in \u001b[0;36m<lambda>\u001b[0;34m(x)\u001b[0m\n\u001b[1;32m      1\u001b[0m \u001b[0;31m# change data format\u001b[0m\u001b[0;34m\u001b[0m\u001b[0;34m\u001b[0m\u001b[0;34m\u001b[0m\u001b[0m\n\u001b[0;32m----> 2\u001b[0;31m \u001b[0mdf\u001b[0m\u001b[0;34m.\u001b[0m\u001b[0mtourney_date\u001b[0m\u001b[0;34m.\u001b[0m\u001b[0mapply\u001b[0m\u001b[0;34m(\u001b[0m\u001b[0;32mlambda\u001b[0m \u001b[0mx\u001b[0m\u001b[0;34m:\u001b[0m \u001b[0;34m'%.0f'\u001b[0m \u001b[0;34m%\u001b[0m \u001b[0mround\u001b[0m\u001b[0;34m(\u001b[0m\u001b[0mx\u001b[0m\u001b[0;34m,\u001b[0m \u001b[0;36m0\u001b[0m\u001b[0;34m)\u001b[0m\u001b[0;34m)\u001b[0m\u001b[0;34m\u001b[0m\u001b[0;34m\u001b[0m\u001b[0m\n\u001b[0m\u001b[1;32m      3\u001b[0m \u001b[0mdf\u001b[0m\u001b[0;34m.\u001b[0m\u001b[0mloc\u001b[0m\u001b[0;34m[\u001b[0m\u001b[0;34m:\u001b[0m\u001b[0;34m,\u001b[0m \u001b[0;34m'tourney_date'\u001b[0m\u001b[0;34m]\u001b[0m \u001b[0;34m=\u001b[0m \u001b[0mpd\u001b[0m\u001b[0;34m.\u001b[0m\u001b[0mto_datetime\u001b[0m\u001b[0;34m(\u001b[0m\u001b[0mdf\u001b[0m\u001b[0;34m[\u001b[0m\u001b[0;34m'tourney_date'\u001b[0m\u001b[0;34m]\u001b[0m\u001b[0;34m,\u001b[0m \u001b[0mformat\u001b[0m\u001b[0;34m=\u001b[0m\u001b[0;34m'%Y%m%d'\u001b[0m\u001b[0;34m)\u001b[0m\u001b[0;34m\u001b[0m\u001b[0;34m\u001b[0m\u001b[0m\n\u001b[1;32m      4\u001b[0m \u001b[0mdf\u001b[0m\u001b[0;34m[\u001b[0m\u001b[0;34m'tourney_date'\u001b[0m\u001b[0;34m]\u001b[0m\u001b[0;34m\u001b[0m\u001b[0;34m\u001b[0m\u001b[0m\n",
            "\u001b[0;31mTypeError\u001b[0m: type Timestamp doesn't define __round__ method"
          ]
        }
      ]
    },
    {
      "cell_type": "code",
      "source": [
        "\n",
        "df_rank = df.copy()\n",
        "\n",
        "# Delete missings value.\n",
        "\n",
        "df_rank = df_rank.dropna(subset=['winner_rank', 'loser_rank'])\n",
        "df_rank = df_rank.reset_index(drop=True)\n",
        "df_rank.shape\n",
        "\n",
        "# 20 rang posishion.\n",
        "\n",
        "df_rank['higher_rank_win'] = (df_rank['winner_rank']\n",
        "                                - df_rank['loser_rank']) > 20\n",
        "df_rank['higher_rank_win']\n",
        "\n",
        "# simillar rank\n",
        "\n",
        "df_rank['similar_rank'] = abs(df_rank['winner_rank']\n",
        "                                - df_rank['loser_rank']) <= 5\n",
        "df_rank['similar_rank']"
      ],
      "metadata": {
        "colab": {
          "base_uri": "https://localhost:8080/"
        },
        "id": "ozD9SF5XN9HE",
        "outputId": "beece0ea-14cd-424a-bcfc-1c1771d030b0"
      },
      "execution_count": 84,
      "outputs": [
        {
          "output_type": "execute_result",
          "data": {
            "text/plain": [
              "0          True\n",
              "1          True\n",
              "2          True\n",
              "3         False\n",
              "4         False\n",
              "          ...  \n",
              "128499    False\n",
              "128500    False\n",
              "128501    False\n",
              "128502    False\n",
              "128503     True\n",
              "Name: similar_rank, Length: 128504, dtype: bool"
            ]
          },
          "metadata": {},
          "execution_count": 84
        }
      ]
    },
    {
      "cell_type": "code",
      "source": [
        "\n",
        "df_win = df_rank[['winner_name', 'higher_rank_win', 'similar_rank']]\\\n",
        "                       .groupby('winner_name')\\\n",
        "                       .agg({'higher_rank_win':['count', 'sum'],\n",
        "                             'similar_rank': 'sum'})\n",
        "\n",
        "df_win.columns = df_win.columns.droplevel(0)\n",
        "df_win = df_win.reset_index()\n",
        "\n",
        "df_win.columns = ['name', 'win_count', 'count_win_high_rank', 'count_win_sim_rank']\n",
        "df_win.head()"
      ],
      "metadata": {
        "colab": {
          "base_uri": "https://localhost:8080/",
          "height": 206
        },
        "id": "QNntg7G2OOLN",
        "outputId": "6df170f3-9f2e-43f4-fadd-88278c5408bc"
      },
      "execution_count": 87,
      "outputs": [
        {
          "output_type": "execute_result",
          "data": {
            "text/plain": [
              "                   name  win_count  count_win_high_rank  count_win_sim_rank\n",
              "0      Aaron Krickstein        380                   33                  20\n",
              "1  Abdelhak Hameurlaine          2                    1                   1\n",
              "2       Abdullah Maqdas          7                    4                   0\n",
              "3           Adam Chadaj          2                    1                   0\n",
              "4          Adam Kellner          4                    0                   0"
            ],
            "text/html": [
              "\n",
              "  <div id=\"df-bdc717dc-630c-46ed-ba6d-2127f79d50f2\">\n",
              "    <div class=\"colab-df-container\">\n",
              "      <div>\n",
              "<style scoped>\n",
              "    .dataframe tbody tr th:only-of-type {\n",
              "        vertical-align: middle;\n",
              "    }\n",
              "\n",
              "    .dataframe tbody tr th {\n",
              "        vertical-align: top;\n",
              "    }\n",
              "\n",
              "    .dataframe thead th {\n",
              "        text-align: right;\n",
              "    }\n",
              "</style>\n",
              "<table border=\"1\" class=\"dataframe\">\n",
              "  <thead>\n",
              "    <tr style=\"text-align: right;\">\n",
              "      <th></th>\n",
              "      <th>name</th>\n",
              "      <th>win_count</th>\n",
              "      <th>count_win_high_rank</th>\n",
              "      <th>count_win_sim_rank</th>\n",
              "    </tr>\n",
              "  </thead>\n",
              "  <tbody>\n",
              "    <tr>\n",
              "      <th>0</th>\n",
              "      <td>Aaron Krickstein</td>\n",
              "      <td>380</td>\n",
              "      <td>33</td>\n",
              "      <td>20</td>\n",
              "    </tr>\n",
              "    <tr>\n",
              "      <th>1</th>\n",
              "      <td>Abdelhak Hameurlaine</td>\n",
              "      <td>2</td>\n",
              "      <td>1</td>\n",
              "      <td>1</td>\n",
              "    </tr>\n",
              "    <tr>\n",
              "      <th>2</th>\n",
              "      <td>Abdullah Maqdas</td>\n",
              "      <td>7</td>\n",
              "      <td>4</td>\n",
              "      <td>0</td>\n",
              "    </tr>\n",
              "    <tr>\n",
              "      <th>3</th>\n",
              "      <td>Adam Chadaj</td>\n",
              "      <td>2</td>\n",
              "      <td>1</td>\n",
              "      <td>0</td>\n",
              "    </tr>\n",
              "    <tr>\n",
              "      <th>4</th>\n",
              "      <td>Adam Kellner</td>\n",
              "      <td>4</td>\n",
              "      <td>0</td>\n",
              "      <td>0</td>\n",
              "    </tr>\n",
              "  </tbody>\n",
              "</table>\n",
              "</div>\n",
              "      <button class=\"colab-df-convert\" onclick=\"convertToInteractive('df-bdc717dc-630c-46ed-ba6d-2127f79d50f2')\"\n",
              "              title=\"Convert this dataframe to an interactive table.\"\n",
              "              style=\"display:none;\">\n",
              "        \n",
              "  <svg xmlns=\"http://www.w3.org/2000/svg\" height=\"24px\"viewBox=\"0 0 24 24\"\n",
              "       width=\"24px\">\n",
              "    <path d=\"M0 0h24v24H0V0z\" fill=\"none\"/>\n",
              "    <path d=\"M18.56 5.44l.94 2.06.94-2.06 2.06-.94-2.06-.94-.94-2.06-.94 2.06-2.06.94zm-11 1L8.5 8.5l.94-2.06 2.06-.94-2.06-.94L8.5 2.5l-.94 2.06-2.06.94zm10 10l.94 2.06.94-2.06 2.06-.94-2.06-.94-.94-2.06-.94 2.06-2.06.94z\"/><path d=\"M17.41 7.96l-1.37-1.37c-.4-.4-.92-.59-1.43-.59-.52 0-1.04.2-1.43.59L10.3 9.45l-7.72 7.72c-.78.78-.78 2.05 0 2.83L4 21.41c.39.39.9.59 1.41.59.51 0 1.02-.2 1.41-.59l7.78-7.78 2.81-2.81c.8-.78.8-2.07 0-2.86zM5.41 20L4 18.59l7.72-7.72 1.47 1.35L5.41 20z\"/>\n",
              "  </svg>\n",
              "      </button>\n",
              "      \n",
              "  <style>\n",
              "    .colab-df-container {\n",
              "      display:flex;\n",
              "      flex-wrap:wrap;\n",
              "      gap: 12px;\n",
              "    }\n",
              "\n",
              "    .colab-df-convert {\n",
              "      background-color: #E8F0FE;\n",
              "      border: none;\n",
              "      border-radius: 50%;\n",
              "      cursor: pointer;\n",
              "      display: none;\n",
              "      fill: #1967D2;\n",
              "      height: 32px;\n",
              "      padding: 0 0 0 0;\n",
              "      width: 32px;\n",
              "    }\n",
              "\n",
              "    .colab-df-convert:hover {\n",
              "      background-color: #E2EBFA;\n",
              "      box-shadow: 0px 1px 2px rgba(60, 64, 67, 0.3), 0px 1px 3px 1px rgba(60, 64, 67, 0.15);\n",
              "      fill: #174EA6;\n",
              "    }\n",
              "\n",
              "    [theme=dark] .colab-df-convert {\n",
              "      background-color: #3B4455;\n",
              "      fill: #D2E3FC;\n",
              "    }\n",
              "\n",
              "    [theme=dark] .colab-df-convert:hover {\n",
              "      background-color: #434B5C;\n",
              "      box-shadow: 0px 1px 3px 1px rgba(0, 0, 0, 0.15);\n",
              "      filter: drop-shadow(0px 1px 2px rgba(0, 0, 0, 0.3));\n",
              "      fill: #FFFFFF;\n",
              "    }\n",
              "  </style>\n",
              "\n",
              "      <script>\n",
              "        const buttonEl =\n",
              "          document.querySelector('#df-bdc717dc-630c-46ed-ba6d-2127f79d50f2 button.colab-df-convert');\n",
              "        buttonEl.style.display =\n",
              "          google.colab.kernel.accessAllowed ? 'block' : 'none';\n",
              "\n",
              "        async function convertToInteractive(key) {\n",
              "          const element = document.querySelector('#df-bdc717dc-630c-46ed-ba6d-2127f79d50f2');\n",
              "          const dataTable =\n",
              "            await google.colab.kernel.invokeFunction('convertToInteractive',\n",
              "                                                     [key], {});\n",
              "          if (!dataTable) return;\n",
              "\n",
              "          const docLinkHtml = 'Like what you see? Visit the ' +\n",
              "            '<a target=\"_blank\" href=https://colab.research.google.com/notebooks/data_table.ipynb>data table notebook</a>'\n",
              "            + ' to learn more about interactive tables.';\n",
              "          element.innerHTML = '';\n",
              "          dataTable['output_type'] = 'display_data';\n",
              "          await google.colab.output.renderOutput(dataTable, element);\n",
              "          const docLink = document.createElement('div');\n",
              "          docLink.innerHTML = docLinkHtml;\n",
              "          element.appendChild(docLink);\n",
              "        }\n",
              "      </script>\n",
              "    </div>\n",
              "  </div>\n",
              "  "
            ]
          },
          "metadata": {},
          "execution_count": 87
        }
      ]
    },
    {
      "cell_type": "code",
      "source": [
        "# Losers.\n",
        "\n",
        "df_lose = df_rank[['loser_name', 'higher_rank_win', 'similar_rank']]\\\n",
        "                         .groupby('loser_name')\\\n",
        "                         .agg({'higher_rank_win':['count','sum'],\n",
        "                               'similar_rank': 'sum'})\n",
        "\n",
        "df_lose.columns = df_lose.columns.droplevel(0)\n",
        "df_lose = df_lose.reset_index()\n",
        "\n",
        "df_lose.columns = ['name', 'lose_count', 'count_lose_high_rank', 'count_lose_sim_rank']\n",
        "df_lose.head()"
      ],
      "metadata": {
        "colab": {
          "base_uri": "https://localhost:8080/",
          "height": 206
        },
        "id": "yLSl-GocOQK3",
        "outputId": "16ecebfd-aef1-48dd-d56b-ad254e546d65"
      },
      "execution_count": 88,
      "outputs": [
        {
          "output_type": "execute_result",
          "data": {
            "text/plain": [
              "                   name  lose_count  count_lose_high_rank  count_lose_sim_rank\n",
              "0      Aaron Krickstein         252                   105                   17\n",
              "1  Abdelhak Hameurlaine           4                     0                    0\n",
              "2       Abdul Kahar Mim           2                     0                    0\n",
              "3   Abdul Khalek Nadini           2                     1                    0\n",
              "4  Abdul Mumin Babalola           2                     0                    0"
            ],
            "text/html": [
              "\n",
              "  <div id=\"df-c970278f-d89e-4703-af17-25e1e396813f\">\n",
              "    <div class=\"colab-df-container\">\n",
              "      <div>\n",
              "<style scoped>\n",
              "    .dataframe tbody tr th:only-of-type {\n",
              "        vertical-align: middle;\n",
              "    }\n",
              "\n",
              "    .dataframe tbody tr th {\n",
              "        vertical-align: top;\n",
              "    }\n",
              "\n",
              "    .dataframe thead th {\n",
              "        text-align: right;\n",
              "    }\n",
              "</style>\n",
              "<table border=\"1\" class=\"dataframe\">\n",
              "  <thead>\n",
              "    <tr style=\"text-align: right;\">\n",
              "      <th></th>\n",
              "      <th>name</th>\n",
              "      <th>lose_count</th>\n",
              "      <th>count_lose_high_rank</th>\n",
              "      <th>count_lose_sim_rank</th>\n",
              "    </tr>\n",
              "  </thead>\n",
              "  <tbody>\n",
              "    <tr>\n",
              "      <th>0</th>\n",
              "      <td>Aaron Krickstein</td>\n",
              "      <td>252</td>\n",
              "      <td>105</td>\n",
              "      <td>17</td>\n",
              "    </tr>\n",
              "    <tr>\n",
              "      <th>1</th>\n",
              "      <td>Abdelhak Hameurlaine</td>\n",
              "      <td>4</td>\n",
              "      <td>0</td>\n",
              "      <td>0</td>\n",
              "    </tr>\n",
              "    <tr>\n",
              "      <th>2</th>\n",
              "      <td>Abdul Kahar Mim</td>\n",
              "      <td>2</td>\n",
              "      <td>0</td>\n",
              "      <td>0</td>\n",
              "    </tr>\n",
              "    <tr>\n",
              "      <th>3</th>\n",
              "      <td>Abdul Khalek Nadini</td>\n",
              "      <td>2</td>\n",
              "      <td>1</td>\n",
              "      <td>0</td>\n",
              "    </tr>\n",
              "    <tr>\n",
              "      <th>4</th>\n",
              "      <td>Abdul Mumin Babalola</td>\n",
              "      <td>2</td>\n",
              "      <td>0</td>\n",
              "      <td>0</td>\n",
              "    </tr>\n",
              "  </tbody>\n",
              "</table>\n",
              "</div>\n",
              "      <button class=\"colab-df-convert\" onclick=\"convertToInteractive('df-c970278f-d89e-4703-af17-25e1e396813f')\"\n",
              "              title=\"Convert this dataframe to an interactive table.\"\n",
              "              style=\"display:none;\">\n",
              "        \n",
              "  <svg xmlns=\"http://www.w3.org/2000/svg\" height=\"24px\"viewBox=\"0 0 24 24\"\n",
              "       width=\"24px\">\n",
              "    <path d=\"M0 0h24v24H0V0z\" fill=\"none\"/>\n",
              "    <path d=\"M18.56 5.44l.94 2.06.94-2.06 2.06-.94-2.06-.94-.94-2.06-.94 2.06-2.06.94zm-11 1L8.5 8.5l.94-2.06 2.06-.94-2.06-.94L8.5 2.5l-.94 2.06-2.06.94zm10 10l.94 2.06.94-2.06 2.06-.94-2.06-.94-.94-2.06-.94 2.06-2.06.94z\"/><path d=\"M17.41 7.96l-1.37-1.37c-.4-.4-.92-.59-1.43-.59-.52 0-1.04.2-1.43.59L10.3 9.45l-7.72 7.72c-.78.78-.78 2.05 0 2.83L4 21.41c.39.39.9.59 1.41.59.51 0 1.02-.2 1.41-.59l7.78-7.78 2.81-2.81c.8-.78.8-2.07 0-2.86zM5.41 20L4 18.59l7.72-7.72 1.47 1.35L5.41 20z\"/>\n",
              "  </svg>\n",
              "      </button>\n",
              "      \n",
              "  <style>\n",
              "    .colab-df-container {\n",
              "      display:flex;\n",
              "      flex-wrap:wrap;\n",
              "      gap: 12px;\n",
              "    }\n",
              "\n",
              "    .colab-df-convert {\n",
              "      background-color: #E8F0FE;\n",
              "      border: none;\n",
              "      border-radius: 50%;\n",
              "      cursor: pointer;\n",
              "      display: none;\n",
              "      fill: #1967D2;\n",
              "      height: 32px;\n",
              "      padding: 0 0 0 0;\n",
              "      width: 32px;\n",
              "    }\n",
              "\n",
              "    .colab-df-convert:hover {\n",
              "      background-color: #E2EBFA;\n",
              "      box-shadow: 0px 1px 2px rgba(60, 64, 67, 0.3), 0px 1px 3px 1px rgba(60, 64, 67, 0.15);\n",
              "      fill: #174EA6;\n",
              "    }\n",
              "\n",
              "    [theme=dark] .colab-df-convert {\n",
              "      background-color: #3B4455;\n",
              "      fill: #D2E3FC;\n",
              "    }\n",
              "\n",
              "    [theme=dark] .colab-df-convert:hover {\n",
              "      background-color: #434B5C;\n",
              "      box-shadow: 0px 1px 3px 1px rgba(0, 0, 0, 0.15);\n",
              "      filter: drop-shadow(0px 1px 2px rgba(0, 0, 0, 0.3));\n",
              "      fill: #FFFFFF;\n",
              "    }\n",
              "  </style>\n",
              "\n",
              "      <script>\n",
              "        const buttonEl =\n",
              "          document.querySelector('#df-c970278f-d89e-4703-af17-25e1e396813f button.colab-df-convert');\n",
              "        buttonEl.style.display =\n",
              "          google.colab.kernel.accessAllowed ? 'block' : 'none';\n",
              "\n",
              "        async function convertToInteractive(key) {\n",
              "          const element = document.querySelector('#df-c970278f-d89e-4703-af17-25e1e396813f');\n",
              "          const dataTable =\n",
              "            await google.colab.kernel.invokeFunction('convertToInteractive',\n",
              "                                                     [key], {});\n",
              "          if (!dataTable) return;\n",
              "\n",
              "          const docLinkHtml = 'Like what you see? Visit the ' +\n",
              "            '<a target=\"_blank\" href=https://colab.research.google.com/notebooks/data_table.ipynb>data table notebook</a>'\n",
              "            + ' to learn more about interactive tables.';\n",
              "          element.innerHTML = '';\n",
              "          dataTable['output_type'] = 'display_data';\n",
              "          await google.colab.output.renderOutput(dataTable, element);\n",
              "          const docLink = document.createElement('div');\n",
              "          docLink.innerHTML = docLinkHtml;\n",
              "          element.appendChild(docLink);\n",
              "        }\n",
              "      </script>\n",
              "    </div>\n",
              "  </div>\n",
              "  "
            ]
          },
          "metadata": {},
          "execution_count": 88
        }
      ]
    },
    {
      "cell_type": "code",
      "source": [
        "# in common df (losers and winners).\n",
        "\n",
        "df_final = df_win.merge(df_lose, on='name', how='inner')\n",
        "\n",
        "df_final.head()"
      ],
      "metadata": {
        "colab": {
          "base_uri": "https://localhost:8080/",
          "height": 206
        },
        "id": "IucbxxESOR--",
        "outputId": "86104a7d-4027-46d5-88ff-d848787687a0"
      },
      "execution_count": 89,
      "outputs": [
        {
          "output_type": "execute_result",
          "data": {
            "text/plain": [
              "                   name  win_count  count_win_high_rank  count_win_sim_rank  \\\n",
              "0      Aaron Krickstein        380                   33                  20   \n",
              "1  Abdelhak Hameurlaine          2                    1                   1   \n",
              "2       Abdullah Maqdas          7                    4                   0   \n",
              "3           Adam Chadaj          2                    1                   0   \n",
              "4          Adam Kellner          4                    0                   0   \n",
              "\n",
              "   lose_count  count_lose_high_rank  count_lose_sim_rank  \n",
              "0         252                   105                   17  \n",
              "1           4                     0                    0  \n",
              "2           8                     1                    0  \n",
              "3           1                     0                    0  \n",
              "4           7                     3                    0  "
            ],
            "text/html": [
              "\n",
              "  <div id=\"df-88bd1206-4cdb-480f-bf0a-710440ac4f99\">\n",
              "    <div class=\"colab-df-container\">\n",
              "      <div>\n",
              "<style scoped>\n",
              "    .dataframe tbody tr th:only-of-type {\n",
              "        vertical-align: middle;\n",
              "    }\n",
              "\n",
              "    .dataframe tbody tr th {\n",
              "        vertical-align: top;\n",
              "    }\n",
              "\n",
              "    .dataframe thead th {\n",
              "        text-align: right;\n",
              "    }\n",
              "</style>\n",
              "<table border=\"1\" class=\"dataframe\">\n",
              "  <thead>\n",
              "    <tr style=\"text-align: right;\">\n",
              "      <th></th>\n",
              "      <th>name</th>\n",
              "      <th>win_count</th>\n",
              "      <th>count_win_high_rank</th>\n",
              "      <th>count_win_sim_rank</th>\n",
              "      <th>lose_count</th>\n",
              "      <th>count_lose_high_rank</th>\n",
              "      <th>count_lose_sim_rank</th>\n",
              "    </tr>\n",
              "  </thead>\n",
              "  <tbody>\n",
              "    <tr>\n",
              "      <th>0</th>\n",
              "      <td>Aaron Krickstein</td>\n",
              "      <td>380</td>\n",
              "      <td>33</td>\n",
              "      <td>20</td>\n",
              "      <td>252</td>\n",
              "      <td>105</td>\n",
              "      <td>17</td>\n",
              "    </tr>\n",
              "    <tr>\n",
              "      <th>1</th>\n",
              "      <td>Abdelhak Hameurlaine</td>\n",
              "      <td>2</td>\n",
              "      <td>1</td>\n",
              "      <td>1</td>\n",
              "      <td>4</td>\n",
              "      <td>0</td>\n",
              "      <td>0</td>\n",
              "    </tr>\n",
              "    <tr>\n",
              "      <th>2</th>\n",
              "      <td>Abdullah Maqdas</td>\n",
              "      <td>7</td>\n",
              "      <td>4</td>\n",
              "      <td>0</td>\n",
              "      <td>8</td>\n",
              "      <td>1</td>\n",
              "      <td>0</td>\n",
              "    </tr>\n",
              "    <tr>\n",
              "      <th>3</th>\n",
              "      <td>Adam Chadaj</td>\n",
              "      <td>2</td>\n",
              "      <td>1</td>\n",
              "      <td>0</td>\n",
              "      <td>1</td>\n",
              "      <td>0</td>\n",
              "      <td>0</td>\n",
              "    </tr>\n",
              "    <tr>\n",
              "      <th>4</th>\n",
              "      <td>Adam Kellner</td>\n",
              "      <td>4</td>\n",
              "      <td>0</td>\n",
              "      <td>0</td>\n",
              "      <td>7</td>\n",
              "      <td>3</td>\n",
              "      <td>0</td>\n",
              "    </tr>\n",
              "  </tbody>\n",
              "</table>\n",
              "</div>\n",
              "      <button class=\"colab-df-convert\" onclick=\"convertToInteractive('df-88bd1206-4cdb-480f-bf0a-710440ac4f99')\"\n",
              "              title=\"Convert this dataframe to an interactive table.\"\n",
              "              style=\"display:none;\">\n",
              "        \n",
              "  <svg xmlns=\"http://www.w3.org/2000/svg\" height=\"24px\"viewBox=\"0 0 24 24\"\n",
              "       width=\"24px\">\n",
              "    <path d=\"M0 0h24v24H0V0z\" fill=\"none\"/>\n",
              "    <path d=\"M18.56 5.44l.94 2.06.94-2.06 2.06-.94-2.06-.94-.94-2.06-.94 2.06-2.06.94zm-11 1L8.5 8.5l.94-2.06 2.06-.94-2.06-.94L8.5 2.5l-.94 2.06-2.06.94zm10 10l.94 2.06.94-2.06 2.06-.94-2.06-.94-.94-2.06-.94 2.06-2.06.94z\"/><path d=\"M17.41 7.96l-1.37-1.37c-.4-.4-.92-.59-1.43-.59-.52 0-1.04.2-1.43.59L10.3 9.45l-7.72 7.72c-.78.78-.78 2.05 0 2.83L4 21.41c.39.39.9.59 1.41.59.51 0 1.02-.2 1.41-.59l7.78-7.78 2.81-2.81c.8-.78.8-2.07 0-2.86zM5.41 20L4 18.59l7.72-7.72 1.47 1.35L5.41 20z\"/>\n",
              "  </svg>\n",
              "      </button>\n",
              "      \n",
              "  <style>\n",
              "    .colab-df-container {\n",
              "      display:flex;\n",
              "      flex-wrap:wrap;\n",
              "      gap: 12px;\n",
              "    }\n",
              "\n",
              "    .colab-df-convert {\n",
              "      background-color: #E8F0FE;\n",
              "      border: none;\n",
              "      border-radius: 50%;\n",
              "      cursor: pointer;\n",
              "      display: none;\n",
              "      fill: #1967D2;\n",
              "      height: 32px;\n",
              "      padding: 0 0 0 0;\n",
              "      width: 32px;\n",
              "    }\n",
              "\n",
              "    .colab-df-convert:hover {\n",
              "      background-color: #E2EBFA;\n",
              "      box-shadow: 0px 1px 2px rgba(60, 64, 67, 0.3), 0px 1px 3px 1px rgba(60, 64, 67, 0.15);\n",
              "      fill: #174EA6;\n",
              "    }\n",
              "\n",
              "    [theme=dark] .colab-df-convert {\n",
              "      background-color: #3B4455;\n",
              "      fill: #D2E3FC;\n",
              "    }\n",
              "\n",
              "    [theme=dark] .colab-df-convert:hover {\n",
              "      background-color: #434B5C;\n",
              "      box-shadow: 0px 1px 3px 1px rgba(0, 0, 0, 0.15);\n",
              "      filter: drop-shadow(0px 1px 2px rgba(0, 0, 0, 0.3));\n",
              "      fill: #FFFFFF;\n",
              "    }\n",
              "  </style>\n",
              "\n",
              "      <script>\n",
              "        const buttonEl =\n",
              "          document.querySelector('#df-88bd1206-4cdb-480f-bf0a-710440ac4f99 button.colab-df-convert');\n",
              "        buttonEl.style.display =\n",
              "          google.colab.kernel.accessAllowed ? 'block' : 'none';\n",
              "\n",
              "        async function convertToInteractive(key) {\n",
              "          const element = document.querySelector('#df-88bd1206-4cdb-480f-bf0a-710440ac4f99');\n",
              "          const dataTable =\n",
              "            await google.colab.kernel.invokeFunction('convertToInteractive',\n",
              "                                                     [key], {});\n",
              "          if (!dataTable) return;\n",
              "\n",
              "          const docLinkHtml = 'Like what you see? Visit the ' +\n",
              "            '<a target=\"_blank\" href=https://colab.research.google.com/notebooks/data_table.ipynb>data table notebook</a>'\n",
              "            + ' to learn more about interactive tables.';\n",
              "          element.innerHTML = '';\n",
              "          dataTable['output_type'] = 'display_data';\n",
              "          await google.colab.output.renderOutput(dataTable, element);\n",
              "          const docLink = document.createElement('div');\n",
              "          docLink.innerHTML = docLinkHtml;\n",
              "          element.appendChild(docLink);\n",
              "        }\n",
              "      </script>\n",
              "    </div>\n",
              "  </div>\n",
              "  "
            ]
          },
          "metadata": {},
          "execution_count": 89
        }
      ]
    },
    {
      "cell_type": "code",
      "source": [
        "# Calculate the sum of matches and the percentage\n",
        "# of matches won and lost with a high rank and in common group.\n",
        "\n",
        "df_final['sum_matches'] = (df_final['win_count']\n",
        "                                + df_final['lose_count'])\n",
        "\n",
        "df_final['prob_win_high_rank'] = (df_final['count_win_high_rank']\n",
        "                                       /(df_final['count_win_high_rank']\n",
        "                                       + df_final['count_lose_high_rank']))\n",
        "\n",
        "df_final['prob_win_common'] = (df_final['win_count']\n",
        "                                    /df_final['sum_matches'])\n",
        "\n",
        "df_final.head()"
      ],
      "metadata": {
        "colab": {
          "base_uri": "https://localhost:8080/",
          "height": 206
        },
        "id": "MuDOYUhwOUm-",
        "outputId": "5962abbb-0273-495e-9675-a4e800bb6990"
      },
      "execution_count": 90,
      "outputs": [
        {
          "output_type": "execute_result",
          "data": {
            "text/plain": [
              "                   name  win_count  count_win_high_rank  count_win_sim_rank  \\\n",
              "0      Aaron Krickstein        380                   33                  20   \n",
              "1  Abdelhak Hameurlaine          2                    1                   1   \n",
              "2       Abdullah Maqdas          7                    4                   0   \n",
              "3           Adam Chadaj          2                    1                   0   \n",
              "4          Adam Kellner          4                    0                   0   \n",
              "\n",
              "   lose_count  count_lose_high_rank  count_lose_sim_rank  sum_matches  \\\n",
              "0         252                   105                   17          632   \n",
              "1           4                     0                    0            6   \n",
              "2           8                     1                    0           15   \n",
              "3           1                     0                    0            3   \n",
              "4           7                     3                    0           11   \n",
              "\n",
              "   prob_win_high_rank  prob_win_common  \n",
              "0             0.23913         0.601266  \n",
              "1             1.00000         0.333333  \n",
              "2             0.80000         0.466667  \n",
              "3             1.00000         0.666667  \n",
              "4             0.00000         0.363636  "
            ],
            "text/html": [
              "\n",
              "  <div id=\"df-a93cbbcf-0c93-4137-b978-5ec3f0d89eb8\">\n",
              "    <div class=\"colab-df-container\">\n",
              "      <div>\n",
              "<style scoped>\n",
              "    .dataframe tbody tr th:only-of-type {\n",
              "        vertical-align: middle;\n",
              "    }\n",
              "\n",
              "    .dataframe tbody tr th {\n",
              "        vertical-align: top;\n",
              "    }\n",
              "\n",
              "    .dataframe thead th {\n",
              "        text-align: right;\n",
              "    }\n",
              "</style>\n",
              "<table border=\"1\" class=\"dataframe\">\n",
              "  <thead>\n",
              "    <tr style=\"text-align: right;\">\n",
              "      <th></th>\n",
              "      <th>name</th>\n",
              "      <th>win_count</th>\n",
              "      <th>count_win_high_rank</th>\n",
              "      <th>count_win_sim_rank</th>\n",
              "      <th>lose_count</th>\n",
              "      <th>count_lose_high_rank</th>\n",
              "      <th>count_lose_sim_rank</th>\n",
              "      <th>sum_matches</th>\n",
              "      <th>prob_win_high_rank</th>\n",
              "      <th>prob_win_common</th>\n",
              "    </tr>\n",
              "  </thead>\n",
              "  <tbody>\n",
              "    <tr>\n",
              "      <th>0</th>\n",
              "      <td>Aaron Krickstein</td>\n",
              "      <td>380</td>\n",
              "      <td>33</td>\n",
              "      <td>20</td>\n",
              "      <td>252</td>\n",
              "      <td>105</td>\n",
              "      <td>17</td>\n",
              "      <td>632</td>\n",
              "      <td>0.23913</td>\n",
              "      <td>0.601266</td>\n",
              "    </tr>\n",
              "    <tr>\n",
              "      <th>1</th>\n",
              "      <td>Abdelhak Hameurlaine</td>\n",
              "      <td>2</td>\n",
              "      <td>1</td>\n",
              "      <td>1</td>\n",
              "      <td>4</td>\n",
              "      <td>0</td>\n",
              "      <td>0</td>\n",
              "      <td>6</td>\n",
              "      <td>1.00000</td>\n",
              "      <td>0.333333</td>\n",
              "    </tr>\n",
              "    <tr>\n",
              "      <th>2</th>\n",
              "      <td>Abdullah Maqdas</td>\n",
              "      <td>7</td>\n",
              "      <td>4</td>\n",
              "      <td>0</td>\n",
              "      <td>8</td>\n",
              "      <td>1</td>\n",
              "      <td>0</td>\n",
              "      <td>15</td>\n",
              "      <td>0.80000</td>\n",
              "      <td>0.466667</td>\n",
              "    </tr>\n",
              "    <tr>\n",
              "      <th>3</th>\n",
              "      <td>Adam Chadaj</td>\n",
              "      <td>2</td>\n",
              "      <td>1</td>\n",
              "      <td>0</td>\n",
              "      <td>1</td>\n",
              "      <td>0</td>\n",
              "      <td>0</td>\n",
              "      <td>3</td>\n",
              "      <td>1.00000</td>\n",
              "      <td>0.666667</td>\n",
              "    </tr>\n",
              "    <tr>\n",
              "      <th>4</th>\n",
              "      <td>Adam Kellner</td>\n",
              "      <td>4</td>\n",
              "      <td>0</td>\n",
              "      <td>0</td>\n",
              "      <td>7</td>\n",
              "      <td>3</td>\n",
              "      <td>0</td>\n",
              "      <td>11</td>\n",
              "      <td>0.00000</td>\n",
              "      <td>0.363636</td>\n",
              "    </tr>\n",
              "  </tbody>\n",
              "</table>\n",
              "</div>\n",
              "      <button class=\"colab-df-convert\" onclick=\"convertToInteractive('df-a93cbbcf-0c93-4137-b978-5ec3f0d89eb8')\"\n",
              "              title=\"Convert this dataframe to an interactive table.\"\n",
              "              style=\"display:none;\">\n",
              "        \n",
              "  <svg xmlns=\"http://www.w3.org/2000/svg\" height=\"24px\"viewBox=\"0 0 24 24\"\n",
              "       width=\"24px\">\n",
              "    <path d=\"M0 0h24v24H0V0z\" fill=\"none\"/>\n",
              "    <path d=\"M18.56 5.44l.94 2.06.94-2.06 2.06-.94-2.06-.94-.94-2.06-.94 2.06-2.06.94zm-11 1L8.5 8.5l.94-2.06 2.06-.94-2.06-.94L8.5 2.5l-.94 2.06-2.06.94zm10 10l.94 2.06.94-2.06 2.06-.94-2.06-.94-.94-2.06-.94 2.06-2.06.94z\"/><path d=\"M17.41 7.96l-1.37-1.37c-.4-.4-.92-.59-1.43-.59-.52 0-1.04.2-1.43.59L10.3 9.45l-7.72 7.72c-.78.78-.78 2.05 0 2.83L4 21.41c.39.39.9.59 1.41.59.51 0 1.02-.2 1.41-.59l7.78-7.78 2.81-2.81c.8-.78.8-2.07 0-2.86zM5.41 20L4 18.59l7.72-7.72 1.47 1.35L5.41 20z\"/>\n",
              "  </svg>\n",
              "      </button>\n",
              "      \n",
              "  <style>\n",
              "    .colab-df-container {\n",
              "      display:flex;\n",
              "      flex-wrap:wrap;\n",
              "      gap: 12px;\n",
              "    }\n",
              "\n",
              "    .colab-df-convert {\n",
              "      background-color: #E8F0FE;\n",
              "      border: none;\n",
              "      border-radius: 50%;\n",
              "      cursor: pointer;\n",
              "      display: none;\n",
              "      fill: #1967D2;\n",
              "      height: 32px;\n",
              "      padding: 0 0 0 0;\n",
              "      width: 32px;\n",
              "    }\n",
              "\n",
              "    .colab-df-convert:hover {\n",
              "      background-color: #E2EBFA;\n",
              "      box-shadow: 0px 1px 2px rgba(60, 64, 67, 0.3), 0px 1px 3px 1px rgba(60, 64, 67, 0.15);\n",
              "      fill: #174EA6;\n",
              "    }\n",
              "\n",
              "    [theme=dark] .colab-df-convert {\n",
              "      background-color: #3B4455;\n",
              "      fill: #D2E3FC;\n",
              "    }\n",
              "\n",
              "    [theme=dark] .colab-df-convert:hover {\n",
              "      background-color: #434B5C;\n",
              "      box-shadow: 0px 1px 3px 1px rgba(0, 0, 0, 0.15);\n",
              "      filter: drop-shadow(0px 1px 2px rgba(0, 0, 0, 0.3));\n",
              "      fill: #FFFFFF;\n",
              "    }\n",
              "  </style>\n",
              "\n",
              "      <script>\n",
              "        const buttonEl =\n",
              "          document.querySelector('#df-a93cbbcf-0c93-4137-b978-5ec3f0d89eb8 button.colab-df-convert');\n",
              "        buttonEl.style.display =\n",
              "          google.colab.kernel.accessAllowed ? 'block' : 'none';\n",
              "\n",
              "        async function convertToInteractive(key) {\n",
              "          const element = document.querySelector('#df-a93cbbcf-0c93-4137-b978-5ec3f0d89eb8');\n",
              "          const dataTable =\n",
              "            await google.colab.kernel.invokeFunction('convertToInteractive',\n",
              "                                                     [key], {});\n",
              "          if (!dataTable) return;\n",
              "\n",
              "          const docLinkHtml = 'Like what you see? Visit the ' +\n",
              "            '<a target=\"_blank\" href=https://colab.research.google.com/notebooks/data_table.ipynb>data table notebook</a>'\n",
              "            + ' to learn more about interactive tables.';\n",
              "          element.innerHTML = '';\n",
              "          dataTable['output_type'] = 'display_data';\n",
              "          await google.colab.output.renderOutput(dataTable, element);\n",
              "          const docLink = document.createElement('div');\n",
              "          docLink.innerHTML = docLinkHtml;\n",
              "          element.appendChild(docLink);\n",
              "        }\n",
              "      </script>\n",
              "    </div>\n",
              "  </div>\n",
              "  "
            ]
          },
          "metadata": {},
          "execution_count": 90
        }
      ]
    },
    {
      "cell_type": "code",
      "source": [
        "''' documentation stat metods\n",
        "https://docs.scipy.org/doc/scipy/reference/generated/scipy.stats.wilcoxon.html\n",
        "'''\n",
        "stats.wilcoxon(df_rank_final['prob_win_high_rank'],\n",
        "               df_rank_final['prob_win_common'], alternative = 'greater')"
      ],
      "metadata": {
        "colab": {
          "base_uri": "https://localhost:8080/"
        },
        "id": "vTizeqXMOZRK",
        "outputId": "28f98cac-41ab-4d3b-df51-1746affc26fd"
      },
      "execution_count": 18,
      "outputs": [
        {
          "output_type": "execute_result",
          "data": {
            "text/plain": [
              "WilcoxonResult(statistic=2112723.5, pvalue=1.2299983424366095e-132)"
            ]
          },
          "metadata": {},
          "execution_count": 18
        }
      ]
    },
    {
      "cell_type": "code",
      "source": [
        "fig, axes = plt.subplots(1, 2)\n",
        "sns.boxplot(data=df_rank_final, y='prob_win_high_rank', ax=axes[0])\n",
        "sns.boxplot(data=df_rank_final, y='prob_win_common', ax=axes[1])"
      ],
      "metadata": {
        "colab": {
          "base_uri": "https://localhost:8080/",
          "height": 270
        },
        "id": "y9s-ikS8PTJW",
        "outputId": "f75eb37e-4a79-4109-db4d-47d85e407779"
      },
      "execution_count": 19,
      "outputs": [
        {
          "output_type": "execute_result",
          "data": {
            "text/plain": [
              "<matplotlib.axes._subplots.AxesSubplot at 0x7fc08e7cf280>"
            ]
          },
          "metadata": {},
          "execution_count": 19
        },
        {
          "output_type": "display_data",
          "data": {
            "text/plain": [
              "<Figure size 432x288 with 2 Axes>"
            ],
            "image/png": "[encoded data removed]"
          },
          "metadata": {
            "needs_background": "light"
          }
        }
      ]
    },
    {
      "cell_type": "markdown",
      "source": [
        "б) Если ранг игрока находится в окне +-5 позиций, то вероятность победы будет значительно отличаться от гипотезы из предыдущего случая. Для проверки статистической значимости выборку можно сделать как среднее по годам (например, с 1980 по 2022г.). Подумайте, как правильно сформировать репрезентативную выборку."
      ],
      "metadata": {
        "id": "1KigY_dvErH9"
      }
    },
    {
      "cell_type": "code",
      "source": [
        "# Similar rank.\n",
        "\n",
        "df_final['prob_win_sim_rank'] = (df_final['count_win_sim_rank']\n",
        "                                       /(df_final['count_win_sim_rank']\n",
        "                                       + df_final['count_lose_sim_rank']))\n",
        "# Wilcoxon test.\n",
        "\n",
        "stats.wilcoxon(df_final['prob_win_sim_rank'],\n",
        "               df_final['prob_win_common'], alternative = 'greater')"
      ],
      "metadata": {
        "colab": {
          "base_uri": "https://localhost:8080/"
        },
        "id": "PoJpzTN6PVlk",
        "outputId": "ed98e439-1a5a-4f10-fec3-00d775991c80"
      },
      "execution_count": 92,
      "outputs": [
        {
          "output_type": "execute_result",
          "data": {
            "text/plain": [
              "WilcoxonResult(statistic=333378.0, pvalue=1.0)"
            ]
          },
          "metadata": {},
          "execution_count": 92
        }
      ]
    },
    {
      "cell_type": "code",
      "source": [
        "fig, axes = plt.subplots(1, 2)\n",
        "sns.boxplot(data=df_final, y='prob_win_sim_rank', ax=axes[0])\n",
        "sns.boxplot(data=df_final, y='prob_win_common', ax=axes[1])"
      ],
      "metadata": {
        "colab": {
          "base_uri": "https://localhost:8080/",
          "height": 270
        },
        "id": "ENt-_mnsPdwT",
        "outputId": "278a713e-d76a-4863-e38e-af334dca485a"
      },
      "execution_count": 93,
      "outputs": [
        {
          "output_type": "execute_result",
          "data": {
            "text/plain": [
              "<matplotlib.axes._subplots.AxesSubplot at 0x7fc084366040>"
            ]
          },
          "metadata": {},
          "execution_count": 93
        },
        {
          "output_type": "display_data",
          "data": {
            "text/plain": [
              "<Figure size 432x288 with 2 Axes>"
            ],
            "image/png": "[encoded data removed]"
          },
          "metadata": {
            "needs_background": "light"
          }
        }
      ]
    },
    {
      "cell_type": "markdown",
      "source": [
        "2. Правда ли, что среднее количество сетов, которое необходимо любому игроку для победы в матче, сокращается со временем? Разбейте данные на две группы — с 1980 до 2001 гг. и 2002-2022 гг. Как изменилось среднее количество сетов, которое победитель затратил на игру? Является ли разница средних этих двух выборок статистически значимой? Выбор статистического теста обоснуйте."
      ],
      "metadata": {
        "id": "-91KNViME0ez"
      }
    },
    {
      "cell_type": "code",
      "source": [
        "df1 = df.loc[df['score'].map(lambda x: type(x) is str)].copy()\n",
        "df1.shape"
      ],
      "metadata": {
        "colab": {
          "base_uri": "https://localhost:8080/"
        },
        "id": "-Zs_2kmWPfi0",
        "outputId": "3808ced1-77d6-4996-d8b9-2d9a1d444de3"
      },
      "execution_count": 94,
      "outputs": [
        {
          "output_type": "execute_result",
          "data": {
            "text/plain": [
              "(142220, 49)"
            ]
          },
          "metadata": {},
          "execution_count": 94
        }
      ]
    },
    {
      "cell_type": "code",
      "source": [
        "df1['sets_num'] = df1['score'].map(lambda x: len(x.split()))"
      ],
      "metadata": {
        "id": "POUbAtDsPkSa"
      },
      "execution_count": 95,
      "outputs": []
    },
    {
      "cell_type": "code",
      "source": [
        "df1_early = df1[(df1['tourney_date'].dt.year>1979) & (df1['tourney_date']\\\n",
        "                                                           .dt.year<2002)]\n",
        "df1_last = df1[(df1['tourney_date'].dt.year>2001) & (df1['tourney_date']\\\n",
        "                                                          .dt.year<2023)]"
      ],
      "metadata": {
        "id": "w-fhMlDMPnqU"
      },
      "execution_count": 96,
      "outputs": []
    },
    {
      "cell_type": "code",
      "source": [
        "years = []\n",
        "for i in range(1980, 2023):\n",
        "    years.append(i)\n",
        "\n",
        "num_sets_win = df1.groupby(df1.tourney_date.dt.year).sets_num.mean()\n",
        "\n",
        "\n",
        "plt.xticks(np.arange(1980, 2023, 2), rotation=45)\n",
        "plt.plot(years, num_sets_win.loc[1980:2022], label='Number of sets')\n",
        "plt.legend()"
      ],
      "metadata": {
        "colab": {
          "base_uri": "https://localhost:8080/",
          "height": 298
        },
        "id": "g7XdpHXyPqT1",
        "outputId": "f293d293-0a58-498c-c654-f8da185d2afa"
      },
      "execution_count": 97,
      "outputs": [
        {
          "output_type": "execute_result",
          "data": {
            "text/plain": [
              "<matplotlib.legend.Legend at 0x7fc084614130>"
            ]
          },
          "metadata": {},
          "execution_count": 97
        },
        {
          "output_type": "display_data",
          "data": {
            "text/plain": [
              "<Figure size 432x288 with 1 Axes>"
            ],
            "image/png": "[encoded data removed]"
          },
          "metadata": {
            "needs_background": "light"
          }
        }
      ]
    },
    {
      "cell_type": "code",
      "source": [
        "# Form dateframes with an average number of sets by years.\n",
        "\n",
        "early_sets_num = df1_early_year[['sets_num']]\\\n",
        "                .groupby(df1_early_year.tourney_date.dt.year).mean().reset_index()\n",
        "\n",
        "last_sets_num = df1_last_year[['sets_num']]\\\n",
        "                .groupby(df1_last_year.tourney_date.dt.year).mean().reset_index()"
      ],
      "metadata": {
        "id": "hxsPXgeRPusi"
      },
      "execution_count": 43,
      "outputs": []
    },
    {
      "cell_type": "code",
      "source": [
        "s, p = shapiro(early_sets_num['sets_num'])\n",
        "print('p=%.3f' % p)\n",
        "\n",
        "s, p = shapiro(last_sets_num['sets_num'])\n",
        "print('p=%.3f' % p)"
      ],
      "metadata": {
        "colab": {
          "base_uri": "https://localhost:8080/"
        },
        "id": "qK11k1L6Psnw",
        "outputId": "264d29cc-5938-4d60-ed1c-bce4a396aee2"
      },
      "execution_count": 98,
      "outputs": [
        {
          "output_type": "stream",
          "name": "stdout",
          "text": [
            "p=0.074\n",
            "p=0.883\n"
          ]
        }
      ]
    },
    {
      "cell_type": "code",
      "source": [
        "fig, axes = plt.subplots(1, 2)\n",
        "sns.histplot(early_sets_num['sets_num'], ax=axes[0]);\n",
        "sns.histplot(last_sets_num['sets_num'], ax=axes[1]);"
      ],
      "metadata": {
        "colab": {
          "base_uri": "https://localhost:8080/",
          "height": 280
        },
        "id": "n7lLROGnQszM",
        "outputId": "66bc0e99-d8d6-40ff-fb8e-ea7e80ef06d9"
      },
      "execution_count": 99,
      "outputs": [
        {
          "output_type": "display_data",
          "data": {
            "text/plain": [
              "<Figure size 432x288 with 2 Axes>"
            ],
            "image/png": "[encoded data removed]"
          },
          "metadata": {
            "needs_background": "light"
          }
        }
      ]
    },
    {
      "cell_type": "code",
      "source": [
        "'''\n",
        "Description used stat test\n",
        "\n",
        "https://docs.scipy.org/doc/scipy/reference/generated/scipy.stats.mannwhitneyu.html\n",
        "\n",
        "'''\n",
        "\n",
        "stats.mannwhitneyu(early_sets_num['sets_num'],\n",
        "                   last_sets_num['sets_num'], alternative='greater')"
      ],
      "metadata": {
        "colab": {
          "base_uri": "https://localhost:8080/"
        },
        "id": "-ML3e7uDRQDa",
        "outputId": "9c838354-950b-4fed-8ea4-2c3b65b32cba"
      },
      "execution_count": 100,
      "outputs": [
        {
          "output_type": "execute_result",
          "data": {
            "text/plain": [
              "MannwhitneyuResult(statistic=88.0, pvalue=0.9997553479076992)"
            ]
          },
          "metadata": {},
          "execution_count": 100
        }
      ]
    },
    {
      "cell_type": "markdown",
      "source": [
        "3. У вас появились сомнения — не является ли результат, который вы посчитали на предыдущем шаге, некорректным. Кажется, что на это мог повлиять формат самого матча — best of 3 или best of 5. Оставьте только матчи best of 5 (колонка best_of) и определите — является ли разница среднего количества сетов, которое сыграл победитель, значимой для выборок матчей по 1980 до 2001 гг. и 2002-2022 гг. Выбор статистического теста обоснуйте."
      ],
      "metadata": {
        "id": "XzD1oIu1FIt7"
      }
    },
    {
      "cell_type": "code",
      "source": [
        "df1_early_5 = df1_early[df1_early['best_of']==5]\n",
        "early_sets_5 = df1_early_5[['sets_num']]\\\n",
        "                .groupby(df1_early_5.tourney_date.dt.year).mean().reset_index()\n",
        "\n",
        "df1_last_5 = df1_last[df1_last['best_of']==5]\n",
        "last_sets_5 = df1_last_5[['sets_num']]\\\n",
        "                .groupby(df1_last_5.tourney_date.dt.year).mean().reset_index()\n",
        "\n",
        "df1_best_5 = df1[df1['best_of']==5]\n",
        "\n",
        "df1_best_5 = df1_best_5.reset_index()\n",
        "\n",
        "num_sets_win = df1_best_5.groupby(df1_best_5.tourney_date.dt.year).sets_num.mean()\n",
        "\n",
        "\n",
        "plt.xticks(np.arange(1980, 2023, 2), rotation=45)\n",
        "plt.plot(years, num_sets_win.loc[1980:2022], label='Number of sets')\n",
        "plt.legend()"
      ],
      "metadata": {
        "colab": {
          "base_uri": "https://localhost:8080/",
          "height": 300
        },
        "id": "Fl-v2pOXRcyN",
        "outputId": "b23d6e2f-6d55-4342-cdef-709ac1726e6f"
      },
      "execution_count": 102,
      "outputs": [
        {
          "output_type": "execute_result",
          "data": {
            "text/plain": [
              "<matplotlib.legend.Legend at 0x7fc0842ad0a0>"
            ]
          },
          "metadata": {},
          "execution_count": 102
        },
        {
          "output_type": "display_data",
          "data": {
            "text/plain": [
              "<Figure size 432x288 with 1 Axes>"
            ],
            "image/png": "[encoded data removed]"
          },
          "metadata": {
            "needs_background": "light"
          }
        }
      ]
    },
    {
      "cell_type": "code",
      "source": [
        "# Seeing normality\n",
        "\n",
        "s, p = shapiro(early_sets_5['sets_num'])\n",
        "print('p=%.3f' % p)\n",
        "\n",
        "s, p = shapiro(last_sets_5['sets_num'])\n",
        "print('p=%.3f' % p)"
      ],
      "metadata": {
        "colab": {
          "base_uri": "https://localhost:8080/"
        },
        "id": "M4gLXrJSRflB",
        "outputId": "87871e50-6699-44b3-95c6-09096aae713a"
      },
      "execution_count": 103,
      "outputs": [
        {
          "output_type": "stream",
          "name": "stdout",
          "text": [
            "p=0.390\n",
            "p=0.597\n"
          ]
        }
      ]
    },
    {
      "cell_type": "code",
      "source": [
        "'''\n",
        "Used stat test Shapiro-Wilk test\n",
        "'''\n",
        "\n",
        "fig, axes = plt.subplots(1, 2)\n",
        "sns.histplot(early_sets_5['sets_num'], ax=axes[0]);\n",
        "sns.histplot(last_sets_5['sets_num'], ax=axes[1]);"
      ],
      "metadata": {
        "colab": {
          "base_uri": "https://localhost:8080/",
          "height": 280
        },
        "id": "xA1uVQc5Rksd",
        "outputId": "a2f00136-977e-40c2-bfa9-9a610dcfbd46"
      },
      "execution_count": 104,
      "outputs": [
        {
          "output_type": "display_data",
          "data": {
            "text/plain": [
              "<Figure size 432x288 with 2 Axes>"
            ],
            "image/png": "[encoded data removed]"
          },
          "metadata": {
            "needs_background": "light"
          }
        }
      ]
    },
    {
      "cell_type": "code",
      "source": [
        "# QQ-plot, by normally.\n",
        "\n",
        "fig = sm.qqplot(early_sets_5['sets_num'], line='45')\n",
        "plt.show()\n",
        "fig = sm.qqplot(last_sets_5['sets_num'], line='45')\n",
        "plt.show()"
      ],
      "metadata": {
        "colab": {
          "base_uri": "https://localhost:8080/",
          "height": 541
        },
        "id": "b3_3J-MXRmop",
        "outputId": "39eb77f5-4048-4584-edd8-eb2602d3a203"
      },
      "execution_count": 105,
      "outputs": [
        {
          "output_type": "display_data",
          "data": {
            "text/plain": [
              "<Figure size 432x288 with 1 Axes>"
            ],
            "image/png": "[encoded data removed]"
          },
          "metadata": {
            "needs_background": "light"
          }
        },
        {
          "output_type": "display_data",
          "data": {
            "text/plain": [
              "<Figure size 432x288 with 1 Axes>"
            ],
            "image/png": "[encoded data removed]"
          },
          "metadata": {
            "needs_background": "light"
          }
        }
      ]
    },
    {
      "cell_type": "code",
      "source": [
        "'''\n",
        "Used stat test Mann-Whitney test\n",
        "https://docs.scipy.org/doc/scipy/reference/generated/scipy.stats.mannwhitneyu.html\n",
        "\n",
        "'''\n",
        "\n",
        "stats.mannwhitneyu(early_sets_5['sets_num'],\n",
        "                   last_sets_5['sets_num'], alternative='greater')"
      ],
      "metadata": {
        "colab": {
          "base_uri": "https://localhost:8080/"
        },
        "id": "LIWyyMmZRrC8",
        "outputId": "9c2875ce-c776-4c06-99f8-e3d2a97eb8ae"
      },
      "execution_count": 106,
      "outputs": [
        {
          "output_type": "execute_result",
          "data": {
            "text/plain": [
              "MannwhitneyuResult(statistic=294.0, pvalue=0.06444044855466616)"
            ]
          },
          "metadata": {},
          "execution_count": 106
        }
      ]
    },
    {
      "cell_type": "code",
      "source": [
        "stats.mannwhitneyu(early_sets_5['sets_num'],\n",
        "                   last_sets_5['sets_num'],\n",
        "                   alternative='less')"
      ],
      "metadata": {
        "colab": {
          "base_uri": "https://localhost:8080/"
        },
        "id": "iLiJ8lwWRuQT",
        "outputId": "f7ee8fd2-37ae-4f1a-a309-1546a3a0f31c"
      },
      "execution_count": 107,
      "outputs": [
        {
          "output_type": "execute_result",
          "data": {
            "text/plain": [
              "MannwhitneyuResult(statistic=294.0, pvalue=0.9385635319255627)"
            ]
          },
          "metadata": {},
          "execution_count": 107
        }
      ]
    },
    {
      "cell_type": "markdown",
      "source": [
        "4. Вы хотите изучить психологическую устойчивость профессиональных игроков в теннис. Одним из важных показателей такой устойчивости будет доля выигранных брейк-поинтов. Возьмите трех игроков (они необязательно должны играть в одно и то же время. Можете взять игроков, которые сильно отличаются по рангу, а можете взять примерно равных игроков), для каждого из них посчитайте долю выигранных брейк поинтов (колонки, заканчивающиеся на bpFaced и bpSaved) отдельно в победных и проигранных матчах за минимум 10 лет (можно больше, но годы должны идти подряд). Постройте box-plot’ы для этих статистик для каждого из игроков. Являются ли эти распределения по годам (по победным и по проигранным матчам) независимыми для каждого из игроков? Если сравнивать эту статистику между игроками — будет ли разница в средних для проигранных и выигранных матчей значимой попарно между всеми игроками? Выбор статистического теста обоснуйте."
      ],
      "metadata": {
        "id": "7S1z72FGFMZS"
      }
    },
    {
      "cell_type": "code",
      "source": [
        "df1['win_m_bp'] = (df1['w_bpSaved'] / (df1['w_bpFaced'] + df1['w_bpSaved']))\n",
        "df1['los_m_bp'] = (df1['l_bpSaved'] / (df1['l_bpFaced'] + df1['l_bpSaved']))\n",
        "\n",
        "# Roger Federer\n",
        "\n",
        "df_federer_win = df1[df1['winner_name'] == 'Roger Federer']\n",
        "bp_federer_win = df_federer_win['win_m_bp'].groupby(df_federer_win.tourney_date.dt.year)\\\n",
        "                                           .mean().reset_index()\n",
        "\n",
        "df_federer_los = df1[df1['loser_name'] == 'Roger Federer']\n",
        "bp_federer_los = df_federer_los['los_m_bp'].groupby(df_federer_los.tourney_date.dt.year)\\\n",
        "                                           .mean().reset_index()"
      ],
      "metadata": {
        "id": "0ZuI2Px0RwjN"
      },
      "execution_count": 108,
      "outputs": []
    },
    {
      "cell_type": "code",
      "source": [
        "# Visualization matchs R.Federer.\n",
        "\n",
        "fig, axs = plt.subplots(1, 2, figsize=(10,8))\n",
        "sns.boxplot(data = df_federer_win, y='win_m_bp', ax=axs[0])\n",
        "sns.boxplot(data=df_federer_los, y='los_m_bp', ax=axs[1])\n",
        "\n",
        "\n",
        "fig, axes = plt.subplots(1, 2)\n",
        "sns.histplot(bp_federer_win['win_m_bp'], ax=axes[0]);\n",
        "sns.histplot(bp_federer_los['los_m_bp'], ax=axes[1]);"
      ],
      "metadata": {
        "colab": {
          "base_uri": "https://localhost:8080/",
          "height": 732
        },
        "id": "UwTOp4UHRzqL",
        "outputId": "f348dc24-bb8b-4679-ddfd-0e32d5cf3352"
      },
      "execution_count": 110,
      "outputs": [
        {
          "output_type": "display_data",
          "data": {
            "text/plain": [
              "<Figure size 720x576 with 2 Axes>"
            ],
            "image/png": "[encoded data removed]"
          },
          "metadata": {
            "needs_background": "light"
          }
        },
        {
          "output_type": "display_data",
          "data": {
            "text/plain": [
              "<Figure size 432x288 with 2 Axes>"
            ],
            "image/png": "[encoded data removed]"
          },
          "metadata": {
            "needs_background": "light"
          }
        }
      ]
    },
    {
      "cell_type": "code",
      "source": [
        "# Jonas Bjorkman.\n",
        "\n",
        "jonas_bjorkman_win = df1[df1['winner_name'] == 'Jonas Bjorkman']\n",
        "bp_bjorkman_win = jonas_bjorkman_win['win_m_bp'].groupby(jonas_bjorkman_win.tourney_date.dt.year)\\\n",
        "                                                .mean().reset_index()\n",
        "\n",
        "jonas_bjorkman_los = df1[df1['loser_name'] == 'Jonas Bjorkman']\n",
        "bp_bjorkman_los = jonas_bjorkman_los['los_m_bp'].groupby(jonas_bjorkman_los.tourney_date.dt.year)\\\n",
        "                                                .mean().reset_index()"
      ],
      "metadata": {
        "id": "lppCUxYmR3rx"
      },
      "execution_count": 111,
      "outputs": []
    },
    {
      "cell_type": "code",
      "source": [
        "# Visealization games J.Bjorkman\n",
        "\n",
        "fig, axs = plt.subplots(1, 2, figsize=(10,8))\n",
        "sns.boxplot(data=jonas_bjorkman_win, y='win_m_bp', ax=axs[0])\n",
        "sns.boxplot(data=jonas_bjorkman_los, y='los_m_bp', ax=axs[1])\n",
        "fig, axes = plt.subplots(1, 2)\n",
        "sns.histplot(bp_bjorkman_win['win_m_bp'], ax=axes[0]);\n",
        "sns.histplot(bp_bjorkman_los['los_m_bp'], ax=axes[1]);"
      ],
      "metadata": {
        "colab": {
          "base_uri": "https://localhost:8080/",
          "height": 732
        },
        "id": "ZTcbAc8lR6Cx",
        "outputId": "5a41f18e-d5fc-4ee2-e57f-2ddb26a4fddc"
      },
      "execution_count": 112,
      "outputs": [
        {
          "output_type": "display_data",
          "data": {
            "text/plain": [
              "<Figure size 720x576 with 2 Axes>"
            ],
            "image/png": "[encoded data removed]"
          },
          "metadata": {
            "needs_background": "light"
          }
        },
        {
          "output_type": "display_data",
          "data": {
            "text/plain": [
              "<Figure size 432x288 with 2 Axes>"
            ],
            "image/png": "[encoded data removed]"
          },
          "metadata": {
            "needs_background": "light"
          }
        }
      ]
    },
    {
      "cell_type": "code",
      "source": [
        "# Andy Roddick.\n",
        "\n",
        "andy_roddick_win = df1[df1['winner_name'] == 'Andy Roddick']\n",
        "bp_roddick_win = andy_roddick_win['win_m_bp'].groupby(andy_roddick_win.tourney_date.dt.year)\\\n",
        "                                             .mean().reset_index()\n",
        "\n",
        "andy_roddick_los = df1[df1['loser_name'] == 'Andy Roddick']\n",
        "bp_roddick_los = andy_roddick_los['los_m_bp'].groupby(andy_roddick_los.tourney_date.dt.year)\\\n",
        "                                             .mean().reset_index()\n",
        "# Visualization A.Roddick\n",
        "\n",
        "fig, axs = plt.subplots(1, 2, figsize=(10,8))\n",
        "sns.boxplot(data=andy_roddick_win, y='win_m_bp', ax=axs[0])\n",
        "sns.boxplot(data=andy_roddick_los, y='los_m_bp', ax=axs[1])  \n",
        "\n",
        "fig, axes = plt.subplots(1, 2)\n",
        "sns.histplot(bp_roddick_win['win_m_bp'], ax=axes[0]);\n",
        "sns.histplot(bp_roddick_los['los_m_bp'], ax=axes[1]);                                "
      ],
      "metadata": {
        "colab": {
          "base_uri": "https://localhost:8080/",
          "height": 732
        },
        "id": "3W-nTcOLR-bG",
        "outputId": "f14b8982-676d-4a80-ad54-5a702f67ea86"
      },
      "execution_count": 113,
      "outputs": [
        {
          "output_type": "display_data",
          "data": {
            "text/plain": [
              "<Figure size 720x576 with 2 Axes>"
            ],
            "image/png": "[encoded data removed]"
          },
          "metadata": {
            "needs_background": "light"
          }
        },
        {
          "output_type": "display_data",
          "data": {
            "text/plain": [
              "<Figure size 432x288 with 2 Axes>"
            ],
            "image/png": "[encoded data removed]"
          },
          "metadata": {
            "needs_background": "light"
          }
        }
      ]
    },
    {
      "cell_type": "code",
      "source": [
        "# Dependens/independens between players.\n",
        "\n",
        "df[(df['winner_name'] == 'Roger Federer') & (df['loser_name'] == 'Jonas Bjorkman')].shape[0]"
      ],
      "metadata": {
        "colab": {
          "base_uri": "https://localhost:8080/"
        },
        "id": "unz-UByeSIbv",
        "outputId": "ca2e377b-430b-4328-9a74-e9dacdab5d27"
      },
      "execution_count": 114,
      "outputs": [
        {
          "output_type": "execute_result",
          "data": {
            "text/plain": [
              "5"
            ]
          },
          "metadata": {},
          "execution_count": 114
        }
      ]
    },
    {
      "cell_type": "code",
      "source": [
        "df[(df['loser_name'] == 'Roger Federer') & (df['winner_name'] == 'Jonas Bjorkman')].shape[0]"
      ],
      "metadata": {
        "colab": {
          "base_uri": "https://localhost:8080/"
        },
        "id": "9bjTTkfySLLr",
        "outputId": "293cd899-f151-46c5-cacc-e66d00d0de4c"
      },
      "execution_count": 115,
      "outputs": [
        {
          "output_type": "execute_result",
          "data": {
            "text/plain": [
              "0"
            ]
          },
          "metadata": {},
          "execution_count": 115
        }
      ]
    },
    {
      "cell_type": "code",
      "source": [
        "df[(df['winner_name'] == 'Roger Federer') & (df['loser_name'] == 'Andy Roddick')].shape[0]"
      ],
      "metadata": {
        "colab": {
          "base_uri": "https://localhost:8080/"
        },
        "id": "0sELF9zGSNgf",
        "outputId": "49a85663-88fa-45f2-cee3-65738bb099e4"
      },
      "execution_count": 116,
      "outputs": [
        {
          "output_type": "execute_result",
          "data": {
            "text/plain": [
              "21"
            ]
          },
          "metadata": {},
          "execution_count": 116
        }
      ]
    },
    {
      "cell_type": "code",
      "source": [
        "df[(df['loser_name'] == 'Roger Federer') & (df['winner_name'] == 'Andy Roddick')].shape[0]"
      ],
      "metadata": {
        "colab": {
          "base_uri": "https://localhost:8080/"
        },
        "id": "SGvg98O7SO3h",
        "outputId": "8873805d-1fc0-4673-c0ed-e017735f32c0"
      },
      "execution_count": 117,
      "outputs": [
        {
          "output_type": "execute_result",
          "data": {
            "text/plain": [
              "3"
            ]
          },
          "metadata": {},
          "execution_count": 117
        }
      ]
    },
    {
      "cell_type": "code",
      "source": [
        "df[(df['winner_name'] == 'Andy Roddick') & (df['loser_name'] == 'Jonas Bjorkman')].shape[0]"
      ],
      "metadata": {
        "colab": {
          "base_uri": "https://localhost:8080/"
        },
        "id": "V-losMDiSQoM",
        "outputId": "e02d5db3-6bfe-4e01-8448-7c64e3c3d6fd"
      },
      "execution_count": 118,
      "outputs": [
        {
          "output_type": "execute_result",
          "data": {
            "text/plain": [
              "5"
            ]
          },
          "metadata": {},
          "execution_count": 118
        }
      ]
    },
    {
      "cell_type": "code",
      "source": [
        "df[(df['loser_name'] == 'Andy Roddick') & (df['winner_name'] == 'Jonas Bjorkman')].shape[0]"
      ],
      "metadata": {
        "colab": {
          "base_uri": "https://localhost:8080/"
        },
        "id": "XRdKnywISSn-",
        "outputId": "32f52995-92a6-4ef7-8576-cbc5b9c86774"
      },
      "execution_count": 119,
      "outputs": [
        {
          "output_type": "execute_result",
          "data": {
            "text/plain": [
              "2"
            ]
          },
          "metadata": {},
          "execution_count": 119
        }
      ]
    },
    {
      "cell_type": "code",
      "source": [
        "'''\n",
        "Used stat test\n",
        "https://docs.scipy.org/doc/scipy/reference/generated/scipy.stats.kruskal.html\n",
        "\n",
        "'''\n",
        "\n",
        "stats.kruskal(bp_federer_win['win_m_bp'],\n",
        "              bp_bjorkman_win['win_m_bp'],\n",
        "              bp_roddick_win['win_m_bp'],\n",
        "              nan_policy='omit')"
      ],
      "metadata": {
        "colab": {
          "base_uri": "https://localhost:8080/"
        },
        "id": "v4Vnp-YQSa4e",
        "outputId": "cc8ad2f2-762a-42aa-8ee6-9da71f4b7833"
      },
      "execution_count": 120,
      "outputs": [
        {
          "output_type": "execute_result",
          "data": {
            "text/plain": [
              "KruskalResult(statistic=0.8210100521421282, pvalue=0.6633151740761272)"
            ]
          },
          "metadata": {},
          "execution_count": 120
        }
      ]
    },
    {
      "cell_type": "code",
      "source": [
        "stats.kruskal(bp_federer_los['los_m_bp'],\n",
        "              bp_bjorkman_los['los_m_bp'],\n",
        "              bp_roddick_los['los_m_bp'],\n",
        "              nan_policy='omit')"
      ],
      "metadata": {
        "colab": {
          "base_uri": "https://localhost:8080/"
        },
        "id": "eu0I4tstSpCE",
        "outputId": "d48445d3-0109-4cf6-fe4f-16cff0f13668"
      },
      "execution_count": 121,
      "outputs": [
        {
          "output_type": "execute_result",
          "data": {
            "text/plain": [
              "KruskalResult(statistic=5.477372627372631, pvalue=0.06465522781539772)"
            ]
          },
          "metadata": {},
          "execution_count": 121
        }
      ]
    },
    {
      "cell_type": "markdown",
      "source": [
        "5. У вас есть гипотеза, что доля выигранных брейк-поинтов связана с вероятностью победить в игре. Соберите статистику, где для каждого матча будет собран его исход (победа/поражение) и доля выигранных брейк-поинтов (не забудьте, что в матче два игрока). Разделите долю выигранных брейкпоинтов на группы выше/ниже медианы и, используя информацию о исходе матча, проверьте зависимость между количеством выигранных брейкпоинтов и результатом матча. Насколько сильна эта зависимость? Выбор статистического теста обоснуйте."
      ],
      "metadata": {
        "id": "sZV92zg4FNul"
      }
    },
    {
      "cell_type": "code",
      "source": [
        "lose = pd.concat([(df1['los_m_bp']).reset_index(drop=True),\n",
        "                     pd.Series(np.zeros_like(df1['l_bpSaved']), name='win')], axis=1)\n",
        "\n",
        "lose = lose.rename(columns={'los_m_bp': 'bp'})"
      ],
      "metadata": {
        "id": "6PNTgMKNSwch"
      },
      "execution_count": 122,
      "outputs": []
    },
    {
      "cell_type": "code",
      "source": [
        "win = pd.concat([(df1['win_m_bp']).reset_index(drop=True),\n",
        "                   pd.Series(np.ones_like(df1['w_bpSaved']), name='win')], axis=1)\n",
        "\n",
        "win = win.rename(columns={'win_m_bp': 'bp'})\n",
        "data = pd.concat([win, lose])\n",
        "data = data.reset_index(drop=True)\n",
        "data['many_bp'] = bp_data['bp'] > data['bp'].median()\n",
        "pd.crosstab(data['win'].astype(bool), data['many_bp'])"
      ],
      "metadata": {
        "colab": {
          "base_uri": "https://localhost:8080/",
          "height": 143
        },
        "id": "pi8jBX5ZSzKW",
        "outputId": "57962161-f001-4dfc-f759-9d8579174cb6"
      },
      "execution_count": 123,
      "outputs": [
        {
          "output_type": "execute_result",
          "data": {
            "text/plain": [
              "many_bp   False   True\n",
              "win                   \n",
              "False    112947  29273\n",
              "True      90171  52049"
            ],
            "text/html": [
              "\n",
              "  <div id=\"df-91c85fb1-dfbf-4e40-9a3b-639d20120fcf\">\n",
              "    <div class=\"colab-df-container\">\n",
              "      <div>\n",
              "<style scoped>\n",
              "    .dataframe tbody tr th:only-of-type {\n",
              "        vertical-align: middle;\n",
              "    }\n",
              "\n",
              "    .dataframe tbody tr th {\n",
              "        vertical-align: top;\n",
              "    }\n",
              "\n",
              "    .dataframe thead th {\n",
              "        text-align: right;\n",
              "    }\n",
              "</style>\n",
              "<table border=\"1\" class=\"dataframe\">\n",
              "  <thead>\n",
              "    <tr style=\"text-align: right;\">\n",
              "      <th>many_bp</th>\n",
              "      <th>False</th>\n",
              "      <th>True</th>\n",
              "    </tr>\n",
              "    <tr>\n",
              "      <th>win</th>\n",
              "      <th></th>\n",
              "      <th></th>\n",
              "    </tr>\n",
              "  </thead>\n",
              "  <tbody>\n",
              "    <tr>\n",
              "      <th>False</th>\n",
              "      <td>112947</td>\n",
              "      <td>29273</td>\n",
              "    </tr>\n",
              "    <tr>\n",
              "      <th>True</th>\n",
              "      <td>90171</td>\n",
              "      <td>52049</td>\n",
              "    </tr>\n",
              "  </tbody>\n",
              "</table>\n",
              "</div>\n",
              "      <button class=\"colab-df-convert\" onclick=\"convertToInteractive('df-91c85fb1-dfbf-4e40-9a3b-639d20120fcf')\"\n",
              "              title=\"Convert this dataframe to an interactive table.\"\n",
              "              style=\"display:none;\">\n",
              "        \n",
              "  <svg xmlns=\"http://www.w3.org/2000/svg\" height=\"24px\"viewBox=\"0 0 24 24\"\n",
              "       width=\"24px\">\n",
              "    <path d=\"M0 0h24v24H0V0z\" fill=\"none\"/>\n",
              "    <path d=\"M18.56 5.44l.94 2.06.94-2.06 2.06-.94-2.06-.94-.94-2.06-.94 2.06-2.06.94zm-11 1L8.5 8.5l.94-2.06 2.06-.94-2.06-.94L8.5 2.5l-.94 2.06-2.06.94zm10 10l.94 2.06.94-2.06 2.06-.94-2.06-.94-.94-2.06-.94 2.06-2.06.94z\"/><path d=\"M17.41 7.96l-1.37-1.37c-.4-.4-.92-.59-1.43-.59-.52 0-1.04.2-1.43.59L10.3 9.45l-7.72 7.72c-.78.78-.78 2.05 0 2.83L4 21.41c.39.39.9.59 1.41.59.51 0 1.02-.2 1.41-.59l7.78-7.78 2.81-2.81c.8-.78.8-2.07 0-2.86zM5.41 20L4 18.59l7.72-7.72 1.47 1.35L5.41 20z\"/>\n",
              "  </svg>\n",
              "      </button>\n",
              "      \n",
              "  <style>\n",
              "    .colab-df-container {\n",
              "      display:flex;\n",
              "      flex-wrap:wrap;\n",
              "      gap: 12px;\n",
              "    }\n",
              "\n",
              "    .colab-df-convert {\n",
              "      background-color: #E8F0FE;\n",
              "      border: none;\n",
              "      border-radius: 50%;\n",
              "      cursor: pointer;\n",
              "      display: none;\n",
              "      fill: #1967D2;\n",
              "      height: 32px;\n",
              "      padding: 0 0 0 0;\n",
              "      width: 32px;\n",
              "    }\n",
              "\n",
              "    .colab-df-convert:hover {\n",
              "      background-color: #E2EBFA;\n",
              "      box-shadow: 0px 1px 2px rgba(60, 64, 67, 0.3), 0px 1px 3px 1px rgba(60, 64, 67, 0.15);\n",
              "      fill: #174EA6;\n",
              "    }\n",
              "\n",
              "    [theme=dark] .colab-df-convert {\n",
              "      background-color: #3B4455;\n",
              "      fill: #D2E3FC;\n",
              "    }\n",
              "\n",
              "    [theme=dark] .colab-df-convert:hover {\n",
              "      background-color: #434B5C;\n",
              "      box-shadow: 0px 1px 3px 1px rgba(0, 0, 0, 0.15);\n",
              "      filter: drop-shadow(0px 1px 2px rgba(0, 0, 0, 0.3));\n",
              "      fill: #FFFFFF;\n",
              "    }\n",
              "  </style>\n",
              "\n",
              "      <script>\n",
              "        const buttonEl =\n",
              "          document.querySelector('#df-91c85fb1-dfbf-4e40-9a3b-639d20120fcf button.colab-df-convert');\n",
              "        buttonEl.style.display =\n",
              "          google.colab.kernel.accessAllowed ? 'block' : 'none';\n",
              "\n",
              "        async function convertToInteractive(key) {\n",
              "          const element = document.querySelector('#df-91c85fb1-dfbf-4e40-9a3b-639d20120fcf');\n",
              "          const dataTable =\n",
              "            await google.colab.kernel.invokeFunction('convertToInteractive',\n",
              "                                                     [key], {});\n",
              "          if (!dataTable) return;\n",
              "\n",
              "          const docLinkHtml = 'Like what you see? Visit the ' +\n",
              "            '<a target=\"_blank\" href=https://colab.research.google.com/notebooks/data_table.ipynb>data table notebook</a>'\n",
              "            + ' to learn more about interactive tables.';\n",
              "          element.innerHTML = '';\n",
              "          dataTable['output_type'] = 'display_data';\n",
              "          await google.colab.output.renderOutput(dataTable, element);\n",
              "          const docLink = document.createElement('div');\n",
              "          docLink.innerHTML = docLinkHtml;\n",
              "          element.appendChild(docLink);\n",
              "        }\n",
              "      </script>\n",
              "    </div>\n",
              "  </div>\n",
              "  "
            ]
          },
          "metadata": {},
          "execution_count": 123
        }
      ]
    },
    {
      "cell_type": "code",
      "source": [
        "sns.boxplot(data=data, x='win', y='bp')"
      ],
      "metadata": {
        "colab": {
          "base_uri": "https://localhost:8080/",
          "height": 297
        },
        "id": "S1Bq2JTDTFUG",
        "outputId": "d026d2dc-3ac1-4595-cdaf-3538bb8d70f3"
      },
      "execution_count": 124,
      "outputs": [
        {
          "output_type": "execute_result",
          "data": {
            "text/plain": [
              "<matplotlib.axes._subplots.AxesSubplot at 0x7fc083c1e820>"
            ]
          },
          "metadata": {},
          "execution_count": 124
        },
        {
          "output_type": "display_data",
          "data": {
            "text/plain": [
              "<Figure size 432x288 with 1 Axes>"
            ],
            "image/png": "[encoded data removed]"
          },
          "metadata": {
            "needs_background": "light"
          }
        }
      ]
    },
    {
      "cell_type": "code",
      "source": [
        "''' \n",
        "Used data set\n",
        "https://docs.scipy.org/doc/scipy/reference/generated/scipy.stats.chi2_contingency.html\n",
        "\n",
        "'''\n",
        "\n",
        "\n",
        "chisq_stats = stats.chi2_contingency(pd.crosstab(data['win'].astype(bool),\n",
        "                                                 data['many_bp']),\n",
        "                                                 correction=True)"
      ],
      "metadata": {
        "id": "t2jq121uS0-2"
      },
      "execution_count": 125,
      "outputs": []
    },
    {
      "cell_type": "code",
      "source": [
        "chisq_stats[1]"
      ],
      "metadata": {
        "colab": {
          "base_uri": "https://localhost:8080/"
        },
        "id": "64Bs-qezSzFF",
        "outputId": "c0b7e9a2-8d3c-49f6-c1bf-78e41e64b1a1"
      },
      "execution_count": 126,
      "outputs": [
        {
          "output_type": "execute_result",
          "data": {
            "text/plain": [
              "0.0"
            ]
          },
          "metadata": {},
          "execution_count": 126
        }
      ]
    },
    {
      "cell_type": "code",
      "source": [
        "s = np.sum(pd.crosstab(data['win'].astype(bool), data['many_bp']))\n",
        "s = s.sum()\n",
        "\n",
        "minshape = min(pd.crosstab(data['win'].astype(bool), data['many_bp']).shape) - 1\n",
        "\n",
        "cramer_stat = np.sqrt((chisq_stats[0]/s)/minshape)\n",
        "cramer_stat"
      ],
      "metadata": {
        "colab": {
          "base_uri": "https://localhost:8080/"
        },
        "id": "nVedUY27TOJN",
        "outputId": "c42da7a9-e1be-4e22-fa8d-ccecd0582f99"
      },
      "execution_count": 129,
      "outputs": [
        {
          "output_type": "execute_result",
          "data": {
            "text/plain": [
              "0.17720670664270316"
            ]
          },
          "metadata": {},
          "execution_count": 129
        }
      ]
    }
  ]
}